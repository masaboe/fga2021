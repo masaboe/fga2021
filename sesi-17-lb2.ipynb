{
 "cells": [
  {
   "cell_type": "markdown",
   "metadata": {},
   "source": [
    "# Sesi 17\n",
    "Library 2 (Flask Lib dan Supervised Learning)"
   ]
  },
  {
   "cell_type": "markdown",
   "metadata": {},
   "source": [
    "## Apa itu Virtualenv?\n",
    "\n",
    "Vritualenv adalah tools untuk membuat lingkungan python virtual yang terisolasi.\n",
    "\n",
    "Saat menginstal modul/library menggunakan pip, modul akan terinstal secara global di /python/site-packages, \n",
    "dan semua aplikasi bisa mengakses dan menggunakannya. tidak bisa secara khusus apabila 2 aplikasi yang berbeda kebutuhan untuk bisa memiliki lingkungannya sendiri.\n",
    "\n",
    "#### Instalasi Vritualenv\n",
    "\n",
    "`pip install virtualenv`\n",
    "\n"
   ]
  },
  {
   "cell_type": "markdown",
   "metadata": {},
   "source": [
    "Untuk memastikan sudah terinstall dengan benar, coba ketik perintah berikut:\n",
    "\n",
    "`which virtualenv`\n",
    "\n",
    "`virtualenv --version`\n",
    "\n",
    "#### Membuat virtualenv\n",
    "- Membuat folder project, `misalkan my-project`\n",
    "- Masuk ke dalam folder `my-project` kemudian ketikan perintah `virtualenv flask`\n",
    "\n",
    "Maka akan secara otomatis membuat lingkungan virtual dan direktori baru bernama flask, yang didalamnya ada folder bin, lib dan lainnya.\n",
    "\n",
    "untuk mengakses ke virtualenv ketikan perintah \n",
    "\n",
    "`source flask/bin/activate`\n",
    "\n",
    "maka posisi sekarang sudah masuk ke lingkungan virtual.\n",
    "\n",
    "untuk keluar dari lingkungan environment ketikan perintah\n",
    "\n",
    "`deactivate`"
   ]
  },
  {
   "cell_type": "markdown",
   "metadata": {},
   "source": [
    "Tahap berikutnya bisa melakukan instalasi apapun yang dibutuhkan, kali ini akan mencoba praktikum flask\n",
    "\n",
    "ketikan perintah\n",
    "\n",
    "`pip install flask`\n",
    "\n",
    "Setelah selesai untuk mengecek jalankan perintah\n",
    "\n",
    "`flask --version`\n",
    "\n",
    "untuk mengeksekusi file dapat dijalankan dengan perintah\n",
    "\n",
    "`FLASK_APP=file.py flask run`\n",
    "\n",
    "Running on http://127.0.0.1:5000/ (Press CTRL+C to quit)\n",
    "\n",
    "buka url yang muncul maka file sudah bisa dibuka dari browser.\n"
   ]
  },
  {
   "cell_type": "markdown",
   "metadata": {},
   "source": [
    "buka folder `flask` dan eksperimen dijalankan pada perangkat masing-masing"
   ]
  },
  {
   "cell_type": "markdown",
   "metadata": {},
   "source": [
    "### Supervised Learning\n",
    "\n",
    "Source : \n",
    "- https://pandas.pydata.org/docs/\n",
    "- https://scikit-learn.org/0.21/documentation.html#\n",
    "\n",
    "Buka folder sesi 17"
   ]
  }
 ],
 "metadata": {
  "kernelspec": {
   "display_name": "Python 3",
   "language": "python",
   "name": "python3"
  },
  "language_info": {
   "codemirror_mode": {
    "name": "ipython",
    "version": 3
   },
   "file_extension": ".py",
   "mimetype": "text/x-python",
   "name": "python",
   "nbconvert_exporter": "python",
   "pygments_lexer": "ipython3",
   "version": "3.8.5"
  }
 },
 "nbformat": 4,
 "nbformat_minor": 4
}
