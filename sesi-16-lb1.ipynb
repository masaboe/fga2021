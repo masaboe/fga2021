{
 "cells": [
  {
   "cell_type": "markdown",
   "metadata": {},
   "source": [
    "# Sesi 16\n",
    "Library 1 (Pengenalan Library Python, Tkinter Lib dan Preprocessing Data)\n",
    "\n",
    "Source : https://docs.python.org/3.9/library/tk.html"
   ]
  },
  {
   "cell_type": "markdown",
   "metadata": {},
   "source": [
    "# Python-Tkinter Basics\n",
    "\n",
    "1. Why GUI?\n",
    "    - In simple words to provide simple Graphical User Interface to end users. \n",
    "2. What is Tkinter\n",
    "      - Tkinter is python interface for tk()\n",
    "      - Tkinter first release was in 1991\n",
    "3. Why Tkinter?\n",
    "4. Other packages?"
   ]
  },
  {
   "cell_type": "markdown",
   "metadata": {},
   "source": [
    "Tkinter can be installed using pip. The following command is run in the command prompt to install Tkinter.\n",
    "\n",
    "`pip install tk`\n",
    "\n",
    "This command will start downloading and installing packages related to the Tkinter library. Once done, the message of successful installation will be displayed."
   ]
  },
  {
   "cell_type": "code",
   "execution_count": 6,
   "metadata": {},
   "outputs": [],
   "source": [
    "from tkinter import *\n",
    "\n",
    "def printData(firstName, lastName):\n",
    "    print(firstName)\n",
    "    print(lastName)\n",
    "    root.destroy()\n",
    "\n",
    "def get_input():\n",
    "\n",
    "    firstName = entry1.get()\n",
    "    lastName = entry2.get()\n",
    "    printData(firstName, lastName)\n",
    "\n",
    "\n",
    "root = Tk()\n",
    "#Label 1\n",
    "label1 = Label(root,text = 'First Name')\n",
    "label1.pack()\n",
    "label1.config(justify = CENTER)\n",
    "\n",
    "entry1 = Entry(root, width = 30)\n",
    "entry1.pack()\n",
    "\n",
    "label3 = Label(root, text=\"Last Name\")\n",
    "label3.pack()\n",
    "label1.config(justify = CENTER)\n",
    "\n",
    "entry2 = Entry(root, width = 30)\n",
    "entry2.pack()\n",
    "\n",
    "button1 = Button(root, text = 'submit')\n",
    "button1.pack() \n",
    "button1.config(command = get_input)\n",
    "\n",
    "root.mainloop()"
   ]
  },
  {
   "cell_type": "markdown",
   "metadata": {},
   "source": [
    "## Pre Processing Data\n",
    "\n",
    "Source : \n",
    "- https://pandas.pydata.org/docs/\n",
    "- https://scikit-learn.org/0.21/documentation.html#"
   ]
  },
  {
   "cell_type": "markdown",
   "metadata": {},
   "source": [
    "Buka Folder sesi16"
   ]
  }
 ],
 "metadata": {
  "kernelspec": {
   "display_name": "Python 3",
   "language": "python",
   "name": "python3"
  },
  "language_info": {
   "codemirror_mode": {
    "name": "ipython",
    "version": 3
   },
   "file_extension": ".py",
   "mimetype": "text/x-python",
   "name": "python",
   "nbconvert_exporter": "python",
   "pygments_lexer": "ipython3",
   "version": "3.8.5"
  }
 },
 "nbformat": 4,
 "nbformat_minor": 4
}
