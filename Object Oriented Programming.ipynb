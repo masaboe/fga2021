{
 "cells": [
  {
   "cell_type": "markdown",
   "metadata": {},
   "source": [
    "### Sesi 13 - 14 - Extra\n",
    "\n",
    "Object-Oriented Programming\n",
    "\n",
    "source: https://auftechnique.com"
   ]
  },
  {
   "cell_type": "markdown",
   "metadata": {},
   "source": [
    "# 4 Pilar Pemrograman berorientasi objek"
   ]
  },
  {
   "cell_type": "markdown",
   "metadata": {},
   "source": [
    "Object Oriented Programming (OOP) atau pemrogramam berorientasi objek adalah salah satu pendekatan paling efektif dalam menulis kode suatu software. Pada OOP kita menulis class yang merepresentasikan suatu situasi seperti pada keadaan sebenarnya dan kita dapat membuat suatu objek berdasarkan class tersebut."
   ]
  },
  {
   "cell_type": "markdown",
   "metadata": {},
   "source": [
    "## Konsep pemrograman berorientasi objek"
   ]
  },
  {
   "cell_type": "markdown",
   "metadata": {},
   "source": [
    "Python adalah bahasa pemrograman berorientasi objek. Tidak seperti pada pemrograman berorientasi prosedural, di mana penekanan utama adalah pada fungsi(walaupun Python dapat melakukannya). Sedangkan pemrograman berorientasi objek lebih menekankan pada suatu objek"
   ]
  },
  {
   "cell_type": "markdown",
   "metadata": {},
   "source": [
    "Kita pasti bertanya-tanya apa perbedaan antara pemrograman prosedural dan berorientasi objek. Untuk menghilangkan keraguan tersebut, mari kita bahas di antara kedua nya. Pada pemrograman prosedural, seluruh kode ditulis dalam satu prosedur yang panjang meskipun mungkin mengandung suatu fungsi dan subrutin. Dengan menggunakan cara tersebut, akan sangat sulit untuk di kelola di kemudian hari. Karena, data dan logika di campur bersama-sama. "
   ]
  },
  {
   "cell_type": "markdown",
   "metadata": {},
   "source": [
    "Namun, ketika kita berbicara mengenai pemrograman berorientasi objek, kode program di bagi lagi menjadi suatu objek tersendiri."
   ]
  },
  {
   "cell_type": "markdown",
   "metadata": {},
   "source": [
    "Setiap objek mewakili bagian yang berbeda dari suatu program, dimana objek tersebut memiliki data dan logika tersendiri untuk saling berkomunikasi. Kita dapat membayangkan suatu situs web yang memiliki objek yang berbeda-beda seperti tulisan, gambar, video, dll."
   ]
  },
  {
   "cell_type": "markdown",
   "metadata": {},
   "source": [
    "Pemrograman berorientasi objek mencakup empat pillar utama, yaitu Encapsulation, Inheritance, Polymorphism dan  Abstraction. Mari kita pahami topik ini secara lebih detail pada bagian selanjutnya."
   ]
  },
  {
   "cell_type": "markdown",
   "metadata": {},
   "source": [
    "Video penjelasan konsep pemrograman berorientasi objek:\n",
    "https://www.youtube.com/watch?v=KttircPszwI"
   ]
  },
  {
   "cell_type": "markdown",
   "metadata": {},
   "source": [
    "## Objek, Class, Attribute dan Metode"
   ]
  },
  {
   "cell_type": "markdown",
   "metadata": {},
   "source": [
    "Objek adalah suatu kumpulan data (variabel) dan metode (fungsi) yang bekerja pada data tersebut. Sedangkan, class adalah blueprint dari suatu objek. Lalu, bagaimana class memungkinkan untuk dapat mengelompokkan suatu data dan fungsi secara logis dengan cara yang mudah digunakan kembali serta bagaimana cara membangunnya jika diperlukan?"
   ]
  },
  {
   "cell_type": "markdown",
   "metadata": {},
   "source": [
    "Kita dapat membayangkan class adalah sketsa dari sebuah rumah. Yang secara detail berisi mengenai lantai, pintu, jendela, dll. Berdasarkan uraian tersebut kita dapat membangun sebuah rumah. Maka, rumah adalah suatu objek."
   ]
  },
  {
   "cell_type": "markdown",
   "metadata": {},
   "source": [
    "Karena banyak rumah dapat di bangun dari sketsa tersebut. Sehingga, kita dapat membuat banyak objek dari suatu class jika dianalogikan pada pemrograman berorientasi objek. Selain itu, objek pun dapat disebut sebagai turunan dari suatu class. Proses pembuatan objek ini disebut sebagai instantiation."
   ]
  },
  {
   "cell_type": "markdown",
   "metadata": {},
   "source": [
    "Dengan menggunakan class, program yang kita tulis akan lebih konsisten. Sehingga, dapat menjadikannya lebih rapih dan efisien."
   ]
  },
  {
   "cell_type": "markdown",
   "metadata": {},
   "source": [
    "Class memiliki suatu atribut, yaitu data yang terdapat di dalam (variable class dan instance variable) serta metode yang dapat di akses dengan tanda titik ( . )"
   ]
  },
  {
   "cell_type": "markdown",
   "metadata": {},
   "source": [
    "- Class variable yaitu variabel yang dapat di akses oleh semua objek / instance pada kelas yang berbeda.\n",
    "- Instance variable ialah variabel khusus untuk setiap instance yang didefinisikan di dalam suatu metode dan hanya dimiliki oleh instance kelas yang digunakan pada saat itu.\n",
    "- Methods adalah fungsi yang didefinisikan di dalam kelas serta menggambarkan perilaku suatu objek."
   ]
  },
  {
   "cell_type": "markdown",
   "metadata": {},
   "source": [
    "Syntax untuk mendeskripsikan suatu class:"
   ]
  },
  {
   "cell_type": "markdown",
   "metadata": {},
   "source": [
    "class NamaSuatuClass:\n",
    "    pernyataan-1\n",
    "    pernyataan-2\n",
    "    .\n",
    "    .\n",
    "    .\n",
    "    pernyataan-N\n"
   ]
  },
  {
   "cell_type": "code",
   "execution_count": 23,
   "metadata": {
    "scrolled": true
   },
   "outputs": [],
   "source": [
    "class Rumah():\n",
    "    #Membuat suatu fungsi (metode)\n",
    "    def __init__(self,bahan,harga,lokasi): \n",
    "        # self adalah instance dari class\n",
    "        self.bahan = bahan \n",
    "        self.harga = harga\n",
    "        self.lokasi = lokasi\n",
    "        \n",
    "#membuat objek \n",
    "rumah1 = Rumah(\"Kayu\",700000000,\"desa\") \n",
    "rumah2 = Rumah(\"Beton\",1500000000,\"tengah kota\")"
   ]
  },
  {
   "cell_type": "code",
   "execution_count": 24,
   "metadata": {},
   "outputs": [
    {
     "name": "stdout",
     "output_type": "stream",
     "text": [
      "<__main__.Rumah object at 0x0000019371D149C8>\n"
     ]
    }
   ],
   "source": [
    "print(rumah1)"
   ]
  },
  {
   "cell_type": "markdown",
   "metadata": {},
   "source": [
    "Output di atas memberitahukan kepada kita bahwa rumah merupakan suatu objek pada lokasi memory tertentu pada komputer. Untuk mengakses nilai atribut tersebut, kita perlu menggunakan dot ( . ), lalu memanggil atribut yang ingin diketahui nilainya, seperti pada contoh di bawah ini:"
   ]
  },
  {
   "cell_type": "code",
   "execution_count": 142,
   "metadata": {},
   "outputs": [
    {
     "data": {
      "text/plain": [
       "'Kayu'"
      ]
     },
     "execution_count": 142,
     "metadata": {},
     "output_type": "execute_result"
    }
   ],
   "source": [
    "rumah1.bahan"
   ]
  },
  {
   "cell_type": "code",
   "execution_count": 19,
   "metadata": {},
   "outputs": [
    {
     "data": {
      "text/plain": [
       "700000000"
      ]
     },
     "execution_count": 19,
     "metadata": {},
     "output_type": "execute_result"
    }
   ],
   "source": [
    "rumah1.harga"
   ]
  },
  {
   "cell_type": "markdown",
   "metadata": {},
   "source": [
    "Untuk mencetak seluruh nilai atribut dari suatu object \"rumah1\" terhadap parameter yang telah diketahui (bahan, harga, lokasi), kita dapat menggunakan (__dict__) \"dictionary\"."
   ]
  },
  {
   "cell_type": "code",
   "execution_count": 21,
   "metadata": {},
   "outputs": [
    {
     "data": {
      "text/plain": [
       "{'bahan': 'Kayu', 'harga': 700000000, 'lokasi': 'desa'}"
      ]
     },
     "execution_count": 21,
     "metadata": {},
     "output_type": "execute_result"
    }
   ],
   "source": [
    "rumah1.__dict__"
   ]
  },
  {
   "cell_type": "markdown",
   "metadata": {},
   "source": [
    "## Encapsulation"
   ]
  },
  {
   "cell_type": "markdown",
   "metadata": {},
   "source": [
    "Encapsulation adalah salah satu konsep fundamental pada pemrograman berorientasi objek. Encapsulation menggambarkan suatu ide untuk membungkus data dan metode yang bekerja pada suatu data di dalam satu unit. Hal ini memberikan batasan dalam mengakses suatu variabel dan metode secara langsung. Sehingga, dapat mencegah modifikasi data yang tidak disengaja. Hal tersebut sangatlah penting, karena dapat mencegah perubahan yang tidak disengaja. Bukan tidak dapat di ubah, namun, variabel objek tersebut hanya dapat di ubah dengan metode objek."
   ]
  },
  {
   "cell_type": "markdown",
   "metadata": {},
   "source": [
    "Python tidak memiliki kata kunci private seperti pada bahasa pemrograman yang lain. Sebagai gantinya, hal ini dapat dilakukan oleh encapsulation. \n",
    "Variable class yang tidak boleh di akses secara langsung diawali oleh dua tanda garis bawah seperti pada contoh di bawah ini:"
   ]
  },
  {
   "cell_type": "code",
   "execution_count": 40,
   "metadata": {},
   "outputs": [
    {
     "name": "stdout",
     "output_type": "stream",
     "text": [
      "123\n",
      "20\n"
     ]
    },
    {
     "ename": "AttributeError",
     "evalue": "'Halo' object has no attribute '__c'",
     "output_type": "error",
     "traceback": [
      "\u001b[1;31m---------------------------------------------------------------------------\u001b[0m",
      "\u001b[1;31mAttributeError\u001b[0m                            Traceback (most recent call last)",
      "\u001b[1;32m<ipython-input-40-a2c62dd721c7>\u001b[0m in \u001b[0;36m<module>\u001b[1;34m\u001b[0m\n\u001b[0;32m      8\u001b[0m \u001b[0mprint\u001b[0m\u001b[1;33m(\u001b[0m\u001b[0mhalo\u001b[0m\u001b[1;33m.\u001b[0m\u001b[0ma\u001b[0m\u001b[1;33m)\u001b[0m\u001b[1;33m\u001b[0m\u001b[1;33m\u001b[0m\u001b[0m\n\u001b[0;32m      9\u001b[0m \u001b[0mprint\u001b[0m\u001b[1;33m(\u001b[0m\u001b[0mhalo\u001b[0m\u001b[1;33m.\u001b[0m\u001b[0m_b\u001b[0m\u001b[1;33m)\u001b[0m\u001b[1;33m\u001b[0m\u001b[1;33m\u001b[0m\u001b[0m\n\u001b[1;32m---> 10\u001b[1;33m \u001b[0mprint\u001b[0m\u001b[1;33m(\u001b[0m\u001b[0mhalo\u001b[0m\u001b[1;33m.\u001b[0m\u001b[0m__c\u001b[0m\u001b[1;33m)\u001b[0m\u001b[1;33m\u001b[0m\u001b[1;33m\u001b[0m\u001b[0m\n\u001b[0m\u001b[0;32m     11\u001b[0m \u001b[1;33m\u001b[0m\u001b[0m\n",
      "\u001b[1;31mAttributeError\u001b[0m: 'Halo' object has no attribute '__c'"
     ]
    }
   ],
   "source": [
    "class Halo:\n",
    "    def __init__(self, angka):\n",
    "        self.a = 123\n",
    "        self._b = 20\n",
    "        self.__c = 40\n",
    "        \n",
    "halo = Halo(\"angka\")\n",
    "print(halo.a)\n",
    "print(halo._b)\n",
    "print(halo.__c)\n",
    "    "
   ]
  },
  {
   "cell_type": "markdown",
   "metadata": {},
   "source": [
    "Dapat diperhatikan pada contoh di atas bahwa variable a dan _ b dapat tercetak. Namun, variable __ c memberikan AttributeError."
   ]
  },
  {
   "cell_type": "markdown",
   "metadata": {},
   "source": [
    "Single underscore: variable private, tidak seharusnya di akses secara langsung. Namun, tidak menghentikan Python untuk mengeksekusi perintah (kecuali konvensi).\n",
    "\n",
    "Double underscore: Private variable, sulit untuk di akses, namun masih memungkinkan.\n",
    "\n",
    "Keduanya masih dapat di akses. Python memiliki variable private secara konvensi."
   ]
  },
  {
   "cell_type": "markdown",
   "metadata": {},
   "source": [
    "Private variable dapat di ubah dengan menggunakan metode get dan set yang dapat memberikan akses secara tidak langsung."
   ]
  },
  {
   "cell_type": "code",
   "execution_count": 117,
   "metadata": {},
   "outputs": [],
   "source": [
    "class Software():\n",
    "    def __init__(self):\n",
    "        self.__version = 1\n",
    "\n",
    "    def getVersion(self):\n",
    "        print(self.__version)\n",
    "\n",
    "    def setVersion(self, version):\n",
    "        self.__version = version\n"
   ]
  },
  {
   "cell_type": "code",
   "execution_count": 118,
   "metadata": {},
   "outputs": [
    {
     "name": "stdout",
     "output_type": "stream",
     "text": [
      "1\n",
      "3\n"
     ]
    }
   ],
   "source": [
    "obj = Software()\n",
    "obj.getVersion()\n",
    "obj.setVersion(3)\n",
    "obj.getVersion()"
   ]
  },
  {
   "cell_type": "markdown",
   "metadata": {},
   "source": [
    "Dapat di lihat pada contoh di atas, bahwa, untuk mengubah software version dari 1 kepada version 3 diperlukan metode get dan set. Oleh karena itu untuk mengakses variable yang memiliki double underscore harus di ubah dengan cara yang tidak langsung, yaitu dengan mengunakan metode get dan set."
   ]
  },
  {
   "cell_type": "markdown",
   "metadata": {},
   "source": [
    "## Inheritance"
   ]
  },
  {
   "cell_type": "markdown",
   "metadata": {},
   "source": [
    "Inheritance memungkinkan kita untuk mewarisi atribut dan metode dari suatu kelas dasar (base)atau induk(parent). Hal ini sangat berguna karena kita membuat sub-kelas yang dapat menggunakan semua fungsi dari parent class. Selain itu, kita dapat menimpa atau menambahkan fungsi yang baru tanpa mempengaruhi parent class. Untuk memahami konsep inheritance dengan mudah, kita dapat menganalogikan sifat seorang anak mewarisi sifat orang tuanya. Sama hal nya pada Python yang memiliki dua kelas, yaitu:\n",
    "1. Parent class (super atau base class)\n",
    "2. Child class (subclass atau derived class)"
   ]
  },
  {
   "cell_type": "markdown",
   "metadata": {},
   "source": [
    "Class yang mewarisi sifat disebut sebagai __Child__ class, sedangkan class yang diwarisi sifat nya adalah __Parent__ class."
   ]
  },
  {
   "cell_type": "markdown",
   "metadata": {},
   "source": [
    "Inheritance memiliki kemampuan untuk membuat __Sub-classes__ yang berisi spesialisasi dari Parent class. Selanjutnya, inheritance dapat di bagi lagi menjadi empat tipe. Yaitu single, multilevel, hierarchical, dan multiple inheritance. Untuk memahaminya lebih jelas, mari kita lihat diagram di bawah ini."
   ]
  },
  {
   "attachments": {
    "tipe%20enheritance.JPG": {
     "image/jpeg": "[encoded data removed]"
    }
   },
   "cell_type": "markdown",
   "metadata": {},
   "source": [
    "![tipe%20enheritance.JPG](attachment:tipe%20enheritance.JPG)"
   ]
  },
  {
   "cell_type": "markdown",
   "metadata": {},
   "source": [
    "Untuk memahaminya pada Python, mari kita telusuri satu persatu."
   ]
  },
  {
   "cell_type": "markdown",
   "metadata": {},
   "source": [
    "### Single inheritance"
   ]
  },
  {
   "cell_type": "markdown",
   "metadata": {},
   "source": [
    "Pada inheritance, child class dapat mengakses seluruh metode yang telah didefinisikan pada parent class. Selain itu, child class dapat meliputi metode spesifik yang dimilikinya. "
   ]
  },
  {
   "cell_type": "markdown",
   "metadata": {},
   "source": [
    "Dalam bahasa pemrograman berorientasi objek pada Python, class turunan dapat mewarisi class utama dengan cara memanggil kembali kelas utama di dalam tanda kurung."
   ]
  },
  {
   "cell_type": "markdown",
   "metadata": {},
   "source": [
    "Misalkan kita ingin membuat class untuk Hewan. Lalu, dari jenis hewan memiliki spesies kucing. Seperti pada contoh di bawah ini:"
   ]
  },
  {
   "cell_type": "code",
   "execution_count": 104,
   "metadata": {},
   "outputs": [],
   "source": [
    "# Parent class\n",
    "class Hewan:  \n",
    "    def bicara(self):  \n",
    "        print(\"Hewan berbicara\")  \n",
    "        \n",
    "# Child class mewarisi dari class Hewan\n",
    "class Kucing(Hewan):\n",
    "    def meaow(self):  \n",
    "        print(\"meaow....meaow....meaow..!!!\") \n"
   ]
  },
  {
   "cell_type": "code",
   "execution_count": 105,
   "metadata": {},
   "outputs": [
    {
     "name": "stdout",
     "output_type": "stream",
     "text": [
      "meaow....meaow....meaow..!!!\n",
      "Hewan berbicara\n"
     ]
    }
   ],
   "source": [
    "k = Kucing()\n",
    "\n",
    "k.meaow()\n",
    "k.bicara()"
   ]
  },
  {
   "cell_type": "markdown",
   "metadata": {},
   "source": [
    "Dapat di lihat pada contoh di atas, hewan adalah parent class dari se ekor kucing. Sehingga ketika kita menggunakan metode meaow(), maka yang keluar adalah suara kucing. Namun, ketika kita menggunakan metode bicara() pada kucing, maka yang keluar adalah suara hewan karena class Kucing dapat menggunakan metode parent class Hewan."
   ]
  },
  {
   "cell_type": "markdown",
   "metadata": {},
   "source": [
    "### Multilevel inheritance"
   ]
  },
  {
   "cell_type": "markdown",
   "metadata": {},
   "source": [
    "Multilevel inheritance adalah kondisi dimana ketika suatu class mewariskan class yang lainnya. Tidak ada batasan hingga berapa banyak jumlah level yang dapat digunakan pada multilevel inheritance pada Python. Contoh syntax:"
   ]
  },
  {
   "cell_type": "code",
   "execution_count": 100,
   "metadata": {},
   "outputs": [],
   "source": [
    "# Parent class\n",
    "class Hewan:  \n",
    "    def bicara(self):  \n",
    "        print(\"Hewan berbicara\")  \n",
    "        \n",
    "# Child class mewarisi dari class Hewan\n",
    "class Kucing(Hewan):\n",
    "    def meaow(self):  \n",
    "        print(\"meaow....meaow....meaow..!!!\") \n",
    "        \n",
    "# Child class AnakKucing mewarisi dari class hewan\n",
    "class AnakKucing(Kucing):\n",
    "    def minum(self):  \n",
    "        print(\"minum susu\") \n",
    "    "
   ]
  },
  {
   "cell_type": "code",
   "execution_count": 101,
   "metadata": {},
   "outputs": [
    {
     "name": "stdout",
     "output_type": "stream",
     "text": [
      "Hewan berbicara\n",
      "meaow....meaow....meaow..!!!\n",
      "minum susu\n"
     ]
    }
   ],
   "source": [
    "a_k = AnakKucing()\n",
    "a_k.bicara()\n",
    "a_k.meaow()\n",
    "a_k.minum()    "
   ]
  },
  {
   "cell_type": "markdown",
   "metadata": {},
   "source": [
    "Dapat di lihat pada contoh di atas, bahwa, class AnakKucing dapat mewarisi sifat dari Kucing dan Hewan."
   ]
  },
  {
   "cell_type": "markdown",
   "metadata": {},
   "source": [
    "### Hierarchical Inheritance"
   ]
  },
  {
   "cell_type": "markdown",
   "metadata": {},
   "source": [
    "Hierarchical inheritance memungkinkan kita menurunkan lebih dari satu child class untuk mewarisi sifat dari parent class."
   ]
  },
  {
   "cell_type": "code",
   "execution_count": 2,
   "metadata": {},
   "outputs": [],
   "source": [
    "# Class utama \n",
    "class Parent: \n",
    "      def fungsi1(self): \n",
    "            print(\"Fungsi pada parent class.\") \n",
    "  \n",
    "# class 1 turunan \n",
    "class Child1(Parent): \n",
    "      def fungsi2(self): \n",
    "            print(\"Fungsi pada child 1.\") \n",
    "  \n",
    "# class 2 turunan\n",
    "class Child2(Parent): \n",
    "      def fungsi3(self): \n",
    "            print(\"Fungsi pada child 2.\") \n"
   ]
  },
  {
   "cell_type": "code",
   "execution_count": 5,
   "metadata": {},
   "outputs": [
    {
     "name": "stdout",
     "output_type": "stream",
     "text": [
      "Fungsi pada parent class.\n",
      "Fungsi pada child 1.\n",
      "Fungsi pada parent class.\n",
      "Fungsi pada child 2.\n"
     ]
    }
   ],
   "source": [
    "object1 = Child1() \n",
    "object2 = Child2() \n",
    "\n",
    "object1.fungsi1() \n",
    "object1.fungsi2()  \n",
    "\n",
    "object2.fungsi1() \n",
    "object2.fungsi3()"
   ]
  },
  {
   "cell_type": "markdown",
   "metadata": {},
   "source": [
    "Contoh di atas menunjukkan bahwa class turunan Child1 dan Child2 dapat menggunakan fungsi pada class parent yang sama."
   ]
  },
  {
   "cell_type": "markdown",
   "metadata": {},
   "source": [
    "### Multiple inheritance"
   ]
  },
  {
   "cell_type": "markdown",
   "metadata": {},
   "source": [
    "Multiple inheritance memungkinkan satu kelas turunan untuk mewarisi lebih dari satu kelas utama."
   ]
  },
  {
   "cell_type": "code",
   "execution_count": 6,
   "metadata": {},
   "outputs": [],
   "source": [
    "## parent 1\n",
    "class Perhitungan1:\n",
    "    def penjumlahan(self, a, b):\n",
    "        return a+b\n",
    "## parent 2\n",
    "class Perhitungan2:\n",
    "    def perkalian(self, a, b):\n",
    "        return a*b\n",
    "## child    \n",
    "class Child(Perhitungan1, Perhitungan2):\n",
    "    def pembagian(self, a, b):\n",
    "        return a/b"
   ]
  },
  {
   "cell_type": "code",
   "execution_count": 7,
   "metadata": {},
   "outputs": [
    {
     "name": "stdout",
     "output_type": "stream",
     "text": [
      "50\n",
      "20\n",
      "0.5\n"
     ]
    }
   ],
   "source": [
    "c = Child()\n",
    "\n",
    "print(c.penjumlahan(20, 30))\n",
    "print(c.perkalian(5, 4))\n",
    "print(c.pembagian(6, 12))"
   ]
  },
  {
   "cell_type": "markdown",
   "metadata": {},
   "source": [
    "Pada contoh di atas menunjukkan bahwa class Child mewarisi sifat dari dua parent class yaitu class Perhitungan1 dan Perhitungan2."
   ]
  },
  {
   "cell_type": "markdown",
   "metadata": {},
   "source": [
    "## Polymorphism"
   ]
  },
  {
   "cell_type": "markdown",
   "metadata": {},
   "source": [
    "Polymorphism adalah kemampuan untuk mengambil bentuk yang berbeda. Polymorphism dalam Python memungkinkan kita untuk mendefinisikan metode pada child class dengan menggunakan nama yang sama seperti pada parent class."
   ]
  },
  {
   "cell_type": "markdown",
   "metadata": {},
   "source": [
    "### Definisi polymorphism"
   ]
  },
  {
   "cell_type": "markdown",
   "metadata": {},
   "source": [
    "Polymorphism di bangun berdasarkan dua suku kata, yaitu Poly (banyak) dan Morphism (bentuk). Artinya adalah fungsi yang sama dapat digunakan pada tipe yang berbeda. Sehingga membuat membuat programming lebih intuitif dan mudah. Dalam bahasa pemrograman berorientasi objek pada Python, kita memiliki cara-cara yang berbeda untuk mendefinisikan polymorphism. "
   ]
  },
  {
   "cell_type": "markdown",
   "metadata": {},
   "source": [
    "Class child mewarisi seluruh method dari parent class. Namun, ada beberapa kasus di mana metode tersebut tidak cocok dengan child class. Oleh karena itu, kita harus mengimplementasikan kembali metode yang pada child class yang dinamakan __Method Overriding__. Contohnya dapat di lihat pada bagian Polymorphism dengan inheritance. (link ke bawah)"
   ]
  },
  {
   "attachments": {
    "polymorphism%20illustration.JPG": {
     "image/jpeg": "[encoded data removed]"
    }
   },
   "cell_type": "markdown",
   "metadata": {},
   "source": [
    "![polymorphism%20illustration.JPG](attachment:polymorphism%20illustration.JPG)"
   ]
  },
  {
   "cell_type": "markdown",
   "metadata": {},
   "source": [
    "Ada beberapa metode untuk menggunakan polymorphism pada pemrograman berorientasi objek Python. Kita dapat menggunakan fungsi berbeda, metode class atau objek untuk mendefinisikannya. "
   ]
  },
  {
   "cell_type": "markdown",
   "metadata": {},
   "source": [
    "### Polymorphism dengan function"
   ]
  },
  {
   "cell_type": "markdown",
   "metadata": {},
   "source": [
    "Kita dapat membuat fungsi yang dapat mengambil objek apapun untuk mengimplememtasikan polymorphism."
   ]
  },
  {
   "cell_type": "code",
   "execution_count": 127,
   "metadata": {
    "scrolled": true
   },
   "outputs": [
    {
     "name": "stdout",
     "output_type": "stream",
     "text": [
      "12\n",
      "3\n",
      "2\n"
     ]
    }
   ],
   "source": [
    "print(len(\"Auftechnique\"))\n",
    "print(len([\"Python\", \"Java\", \"C\"]))\n",
    "print(len({\"Name\": \"Zacky\", \"Address\": \"Jakarta\"}))"
   ]
  },
  {
   "cell_type": "markdown",
   "metadata": {},
   "source": [
    "Contoh di atas adalah menggunakan fungsi yang sudah terintegrasi pada Python yaitu len(). Fungsi tersebut dapat digunakan untuk tipe data yang berbeda. Pada kasus di atas adalah contoh untuk menghitung jumlah huruf dari string, list dan pasangan key-value pada dictonary."
   ]
  },
  {
   "cell_type": "markdown",
   "metadata": {},
   "source": [
    "### Polymorphism dengan class"
   ]
  },
  {
   "cell_type": "markdown",
   "metadata": {},
   "source": [
    "Kita dapat menggunakan konsep polymorphism ketika membuat metode class. Python memungkinkan class yang berbeda untuk menggunakan metode dengan nama yang sama. Kemudian kita dapat memanggil metode tersebut dengan mengabaikan objek yang sedang kita gunakan. Contoh:"
   ]
  },
  {
   "cell_type": "code",
   "execution_count": 156,
   "metadata": {},
   "outputs": [
    {
     "name": "stdout",
     "output_type": "stream",
     "text": [
      "Meow\n",
      "Guk..guk...\n"
     ]
    }
   ],
   "source": [
    "class Kucing:\n",
    "    def __init__(self, nama, umur):\n",
    "        self.nama = nama\n",
    "        self.umur = umur\n",
    "\n",
    "    def bersuara(self):\n",
    "        print(\"Meow\")\n",
    "\n",
    "\n",
    "class Dog:\n",
    "    def __init__(self, nama, umur):\n",
    "        self.nama = nama\n",
    "        self.umur = umur\n",
    "\n",
    "    def bersuara(self):\n",
    "        print(\"Guk..guk...\")\n",
    "\n",
    "kucing1 = Kucing(\"Tom\", 3)\n",
    "anjing1 = Dog(\"Spike\", 4)\n",
    "\n",
    "for hewan in (kucing1, anjing1):\n",
    "    hewan.bersuara()"
   ]
  },
  {
   "cell_type": "markdown",
   "metadata": {},
   "source": [
    "Kita telah membuat class Kucing dan Anjing. Keduanya memiliki struktur dan metode yang sama, yaitu bersuara()."
   ]
  },
  {
   "cell_type": "markdown",
   "metadata": {},
   "source": [
    "### Polymorphism dengan Inheritance"
   ]
  },
  {
   "cell_type": "markdown",
   "metadata": {},
   "source": [
    "Polymorphism pada pemrograman berorientasi objek Python mendefinisikan child class yang memiliki kesamaan nama metode pada parent class. Pada inheritance, child class mewarisi metode dari parent class. Selain itu, memungkinkan untuk memodifikasi metode di dalam child class yang telah diwarisi dari parent class. Contoh polymorphism dengan Inheritance dapat dilihat pada contoh di bawah ini:"
   ]
  },
  {
   "cell_type": "code",
   "execution_count": 141,
   "metadata": {},
   "outputs": [
    {
     "name": "stdout",
     "output_type": "stream",
     "text": [
      "Di dunia ini ada beberapa type berbeda dari spesies burung\n",
      "Hampir semua burung dapat terbang, namun ada beberapa yang tidak dapat terbang\n",
      "Di dunia ini ada beberapa type berbeda dari spesies burung\n",
      "Elang dapat terbang\n",
      "Di dunia ini ada beberapa type berbeda dari spesies burung\n",
      "Burung unta tidak dapat terbang\n"
     ]
    }
   ],
   "source": [
    "class Burung:\n",
    "     def intro(self):\n",
    "        print(\"Di dunia ini ada beberapa type berbeda dari spesies burung\")\n",
    " \n",
    "     def terbang(self):\n",
    "        print(\"Hampir semua burung dapat terbang, namun ada beberapa yang tidak dapat terbang\")\n",
    "        \n",
    " \n",
    "class Elang(Burung):\n",
    "     def terbang(self):\n",
    "        print(\"Elang dapat terbang\")\n",
    "    \n",
    " \n",
    "class BurungUnta(Burung):\n",
    "     def terbang(self):\n",
    "        print(\"Burung unta tidak dapat terbang\")\n",
    " \n",
    "obj_burung = Burung()\n",
    "obj_elang = Elang()\n",
    "obj_burung_unta = BurungUnta()\n",
    " \n",
    "obj_burung.intro()\n",
    "obj_burung.terbang()\n",
    " \n",
    "obj_elang.intro()\n",
    "obj_elang.terbang()\n",
    " \n",
    "obj_burung_unta.intro()\n",
    "obj_burung_unta.terbang()"
   ]
  },
  {
   "cell_type": "markdown",
   "metadata": {},
   "source": [
    "Contoh di atas adalah metode overriding, dimana metode terbang() pada parent class Burung, di timpa oleh oleh masing-masing metode child class-nya yang terdapat pada class Elang dan BurungUnta."
   ]
  },
  {
   "cell_type": "markdown",
   "metadata": {},
   "source": [
    "## Abstraction"
   ]
  },
  {
   "cell_type": "markdown",
   "metadata": {},
   "source": [
    "Abstraction adalah pilar terakhir dari ke-empat pilar pemrograman berorientasi objek yang di bahas pada artikel ini. Abstraction memiliki tujuan untuk menyembunyikan detail yang tidak terlalu penting dari user. Kita dapat membayangkannya seperti sebuah smartphone, dimana untuk menggunakan device tersebut, kita tidak perlu memahami apa yang terjadi di dalam logika elektronik dan software di dalamnya. Namun, kita hanya perlu menekan tombol power dan menyentuh layar dengan menggunakan tangan kita agar alat tersebut bisa bekerja dengan semestinya."
   ]
  },
  {
   "cell_type": "markdown",
   "metadata": {},
   "source": [
    "Python memiliki module untuk menggunakan Abstract Base Classes (ABC). Modulenya bernama abc. Contoh kode di bawah ini adalah cara penggunaan modul abc untuk mendefinisikan abstraction."
   ]
  },
  {
   "cell_type": "markdown",
   "metadata": {},
   "source": [
    "Untuk menggunakan metode abstrak, kita harus menambahkan dekorator pada metode yang akan dijadikan abstrak dengan cara menambahkan @abstraction di atas metode tersebut. Untuk menunjukkan bahwa metode tersebut adalah abstrak. Mari kita coba untuk menjalankan code ini."
   ]
  },
  {
   "cell_type": "code",
   "execution_count": 159,
   "metadata": {
    "scrolled": true
   },
   "outputs": [
    {
     "ename": "TypeError",
     "evalue": "Can't instantiate abstract class Persegi with abstract methods keliling, luas",
     "output_type": "error",
     "traceback": [
      "\u001b[1;31m---------------------------------------------------------------------------\u001b[0m",
      "\u001b[1;31mTypeError\u001b[0m                                 Traceback (most recent call last)",
      "\u001b[1;32m<ipython-input-159-d0755e2ccceb>\u001b[0m in \u001b[0;36m<module>\u001b[1;34m\u001b[0m\n\u001b[0;32m     13\u001b[0m         \u001b[0mself\u001b[0m\u001b[1;33m.\u001b[0m\u001b[0m__sisi\u001b[0m \u001b[1;33m=\u001b[0m \u001b[0msisi\u001b[0m\u001b[1;33m\u001b[0m\u001b[1;33m\u001b[0m\u001b[0m\n\u001b[0;32m     14\u001b[0m \u001b[1;33m\u001b[0m\u001b[0m\n\u001b[1;32m---> 15\u001b[1;33m \u001b[0mpersegi\u001b[0m \u001b[1;33m=\u001b[0m \u001b[0mPersegi\u001b[0m\u001b[1;33m(\u001b[0m\u001b[1;36m6\u001b[0m\u001b[1;33m)\u001b[0m\u001b[1;33m\u001b[0m\u001b[1;33m\u001b[0m\u001b[0m\n\u001b[0m",
      "\u001b[1;31mTypeError\u001b[0m: Can't instantiate abstract class Persegi with abstract methods keliling, luas"
     ]
    }
   ],
   "source": [
    "from abc import ABC, abstractmethod\n",
    "class Bentuk(ABC):\n",
    "    @abstractmethod\n",
    "    def luas(self): \n",
    "        return self.__sisi * self.__sisi\n",
    "\n",
    "    @abstractmethod\n",
    "    def keliling(self): \n",
    "        return 4 * self.__sisi\n",
    "\n",
    "class Persegi(Bentuk):\n",
    "    def __init__(self, sisi):\n",
    "        self.__sisi = sisi\n",
    "\n",
    "persegi = Persegi(6)"
   ]
  },
  {
   "cell_type": "markdown",
   "metadata": {},
   "source": [
    "Kode di atas memberikan peringatan TypeError karena metode di dalam class Bentuk yaitu area dan perimeter adalah metode yang abstrak. Perlu diperhatikan juga ketika kita menggunakan class Persegi, maka, akan menimbulkan error yang sama, karena pada kode di atas kita mewarisi parent class Bentuk pada child class Persegi. Untuk menjalankan metode tersebut, kita harus mengimplementasikan kembali metode yang ada pada parent class Bentuk agar tidak menimbulkan pesan error, seperti pada contoh di bawah ini:"
   ]
  },
  {
   "cell_type": "code",
   "execution_count": 160,
   "metadata": {},
   "outputs": [
    {
     "name": "stdout",
     "output_type": "stream",
     "text": [
      "36\n",
      "24\n"
     ]
    }
   ],
   "source": [
    "from abc import ABC, abstractmethod\n",
    "class Bentuk(ABC):\n",
    "    @abstractmethod\n",
    "    def luas(self): \n",
    "        return self.__sisi * self.__sisi\n",
    "\n",
    "    @abstractmethod\n",
    "    def keliling(self): \n",
    "        return 4 * self.__sisi\n",
    "\n",
    "class Persegi(Bentuk):\n",
    "    def __init__(self, sisi):\n",
    "        self.__sisi = sisi\n",
    "    def luas(self):\n",
    "        return self.__sisi * self.__sisi\n",
    "    def keliling(self):\n",
    "        return 4 * self.__sisi\n",
    "\n",
    "\n",
    "persegi = Persegi(6)\n",
    "print(persegi.luas())\n",
    "print(persegi.keliling())"
   ]
  },
  {
   "cell_type": "markdown",
   "metadata": {},
   "source": [
    "## Kesimpulan"
   ]
  },
  {
   "cell_type": "markdown",
   "metadata": {},
   "source": [
    "Pada artikel ini kita telah membahas mengenai empat pilar pemrograman berorientasi objek pada Python serta contoh penggunaannya. Semoga memberikan manfaat untuk Anda, sehingga lebih mudah untuk memahami konsep penting dalam pemrograman berorientasi objek. "
   ]
  }
 ],
 "metadata": {
  "kernelspec": {
   "display_name": "Python 3",
   "language": "python",
   "name": "python3"
  },
  "language_info": {
   "codemirror_mode": {
    "name": "ipython",
    "version": 3
   },
   "file_extension": ".py",
   "mimetype": "text/x-python",
   "name": "python",
   "nbconvert_exporter": "python",
   "pygments_lexer": "ipython3",
   "version": "3.8.5"
  },
  "latex_envs": {
   "LaTeX_envs_menu_present": true,
   "autoclose": false,
   "autocomplete": true,
   "bibliofile": "biblio.bib",
   "cite_by": "apalike",
   "current_citInitial": 1,
   "eqLabelWithNumbers": true,
   "eqNumInitial": 1,
   "hotkeys": {
    "equation": "Ctrl-E",
    "itemize": "Ctrl-I"
   },
   "labels_anchors": false,
   "latex_user_defs": false,
   "report_style_numbering": false,
   "user_envs_cfg": false
  },
  "toc": {
   "base_numbering": 1,
   "nav_menu": {},
   "number_sections": true,
   "sideBar": true,
   "skip_h1_title": false,
   "title_cell": "Table of Contents",
   "title_sidebar": "Contents",
   "toc_cell": false,
   "toc_position": {
    "height": "calc(100% - 180px)",
    "left": "10px",
    "top": "150px",
    "width": "231.8px"
   },
   "toc_section_display": true,
   "toc_window_display": true
  },
  "varInspector": {
   "cols": {
    "lenName": 16,
    "lenType": 16,
    "lenVar": 40
   },
   "kernels_config": {
    "python": {
     "delete_cmd_postfix": "",
     "delete_cmd_prefix": "del ",
     "library": "var_list.py",
     "varRefreshCmd": "print(var_dic_list())"
    },
    "r": {
     "delete_cmd_postfix": ") ",
     "delete_cmd_prefix": "rm(",
     "library": "var_list.r",
     "varRefreshCmd": "cat(var_dic_list()) "
    }
   },
   "types_to_exclude": [
    "module",
    "function",
    "builtin_function_or_method",
    "instance",
    "_Feature"
   ],
   "window_display": false
  }
 },
 "nbformat": 4,
 "nbformat_minor": 4
}
