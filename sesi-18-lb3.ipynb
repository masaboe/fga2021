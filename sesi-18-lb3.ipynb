{
 "cells": [
  {
   "cell_type": "markdown",
   "metadata": {},
   "source": [
    "# Sesi 18\n",
    "Library 1 (Pandas Lib dan Unsupervised Leraning)\n",
    "\n",
    "### Supervised Learning\n",
    "\n",
    "Source : \n",
    "- https://pandas.pydata.org/docs/\n",
    "- https://scikit-learn.org/0.21/documentation.html#\n",
    "\n",
    "Buka folder sesi 18"
   ]
  }
 ],
 "metadata": {
  "kernelspec": {
   "display_name": "Python 3",
   "language": "python",
   "name": "python3"
  },
  "language_info": {
   "codemirror_mode": {
    "name": "ipython",
    "version": 3
   },
   "file_extension": ".py",
   "mimetype": "text/x-python",
   "name": "python",
   "nbconvert_exporter": "python",
   "pygments_lexer": "ipython3",
   "version": "3.8.5"
  }
 },
 "nbformat": 4,
 "nbformat_minor": 4
}
