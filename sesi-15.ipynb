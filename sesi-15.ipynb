{
 "cells": [
  {
   "cell_type": "markdown",
   "metadata": {},
   "source": [
    "# Python Essentials 2 Module 4\n",
    "##### Miscellaneous\n",
    "\n",
    "#### In this module, you will learn about:\n",
    "- Generators, iterators and closures;\n",
    "- Working with file-system, directory tree and files;\n",
    "- Selected Python Standard Library modules (os, datetime, time, and calendar.)\n",
    "\n",
    "Referensi Tambahan:\n",
    "- https://docs.python.org/3.8/\n",
    "- https://docs.python.org/id/3.8/tutorial/"
   ]
  },
  {
   "cell_type": "markdown",
   "metadata": {},
   "source": [
    "# Generators"
   ]
  },
  {
   "cell_type": "code",
   "execution_count": 36,
   "metadata": {},
   "outputs": [
    {
     "name": "stdout",
     "output_type": "stream",
     "text": [
      "__init__\n",
      "__iter__\n",
      "__next__\n",
      "1\n",
      "__next__\n",
      "1\n",
      "__next__\n",
      "2\n",
      "__next__\n",
      "3\n",
      "__next__\n",
      "5\n",
      "__next__\n",
      "8\n",
      "__next__\n",
      "13\n",
      "__next__\n",
      "21\n",
      "__next__\n",
      "34\n",
      "__next__\n",
      "55\n",
      "__next__\n"
     ]
    }
   ],
   "source": [
    "class Fib:\n",
    "    def __init__(self, nn):\n",
    "        print(\"__init__\")\n",
    "        self.__n = nn\n",
    "        self.__i = 0\n",
    "        self.__p1 = self.__p2 = 1\n",
    "\n",
    "    def __iter__(self):\n",
    "        print(\"__iter__\")\n",
    "        return self\n",
    "\n",
    "    def __next__(self):\n",
    "        print(\"__next__\")\n",
    "        self.__i += 1\n",
    "        if self.__i > self.__n:\n",
    "            raise StopIteration\n",
    "        if self.__i in [1, 2]:\n",
    "            return 1\n",
    "        ret = self.__p1 + self.__p2\n",
    "        self.__p1, self.__p2 = self.__p2, ret\n",
    "        return ret\n",
    "for i in Fib(10):\n",
    "    print(i)"
   ]
  },
  {
   "cell_type": "code",
   "execution_count": 38,
   "metadata": {},
   "outputs": [
    {
     "name": "stdout",
     "output_type": "stream",
     "text": [
      "Class iter\n",
      "1\n",
      "1\n",
      "2\n",
      "3\n",
      "5\n",
      "8\n",
      "13\n",
      "21\n"
     ]
    }
   ],
   "source": [
    "class Fib:\n",
    "    def __init__(self, nn):\n",
    "        self.__n = nn\n",
    "        self.__i = 0\n",
    "        self.__p1 = self.__p2 = 1\n",
    "\n",
    "    def __iter__(self):\n",
    "        print(\"Fib iter\")\n",
    "        return self\n",
    "\n",
    "    def __next__(self):\n",
    "        self.__i += 1\n",
    "        if self.__i > self.__n:\n",
    "            raise StopIteration\n",
    "        if self.__i in [1, 2]:\n",
    "            return 1\n",
    "        ret = self.__p1 + self.__p2\n",
    "        self.__p1, self.__p2 = self.__p2, ret\n",
    "        return ret\n",
    "\n",
    "class Class:\n",
    "    def __init__(self, n):\n",
    "        self.__iter = Fib(n)\n",
    "\n",
    "    def __iter__(self):\n",
    "        print(\"Class iter\")\n",
    "        return self.__iter;\n",
    "\n",
    "\n",
    "object = Class(8)\n",
    "\n",
    "for i in object:\n",
    "    print(i)"
   ]
  },
  {
   "cell_type": "markdown",
   "metadata": {},
   "source": [
    "### Yield Statement"
   ]
  },
  {
   "cell_type": "code",
   "execution_count": 64,
   "metadata": {},
   "outputs": [
    {
     "name": "stdout",
     "output_type": "stream",
     "text": [
      "0\n",
      "1\n",
      "2\n",
      "3\n",
      "4\n"
     ]
    }
   ],
   "source": [
    "def fun(n):\n",
    "    for i in range(n):\n",
    "        print(i)\n",
    "\n",
    "fun(5)"
   ]
  },
  {
   "cell_type": "code",
   "execution_count": 71,
   "metadata": {},
   "outputs": [
    {
     "data": {
      "text/plain": [
       "<generator object fun at 0x1064522e0>"
      ]
     },
     "execution_count": 71,
     "metadata": {},
     "output_type": "execute_result"
    }
   ],
   "source": [
    "def fun(n):\n",
    "    for i in range(n):\n",
    "        yield i\n",
    "\n",
    "fun(5)"
   ]
  },
  {
   "cell_type": "code",
   "execution_count": 68,
   "metadata": {
    "scrolled": true
   },
   "outputs": [
    {
     "name": "stdout",
     "output_type": "stream",
     "text": [
      "1\n",
      "2\n",
      "4\n"
     ]
    }
   ],
   "source": [
    "def powersOf2(n):\n",
    "    pow = 1\n",
    "    for i in range(n):\n",
    "        yield pow\n",
    "        pow *= 2\n",
    "\n",
    "for v in powersOf2(3):\n",
    "    print(v)"
   ]
  },
  {
   "cell_type": "code",
   "execution_count": 72,
   "metadata": {},
   "outputs": [
    {
     "name": "stdout",
     "output_type": "stream",
     "text": [
      "[1, 2, 4]\n"
     ]
    }
   ],
   "source": [
    "def powersOf2_(n):\n",
    "    pow = 1\n",
    "    for i in range(n):\n",
    "        yield pow\n",
    "        pow *= 2\n",
    "\n",
    "t = list(powersOf2_(3))\n",
    "print(t)"
   ]
  },
  {
   "cell_type": "markdown",
   "metadata": {},
   "source": [
    "### The Lambda Function"
   ]
  },
  {
   "cell_type": "code",
   "execution_count": 107,
   "metadata": {},
   "outputs": [
    {
     "name": "stdout",
     "output_type": "stream",
     "text": [
      "<function <lambda> at 0x106442790>\n",
      "<function <lambda> at 0x106442af0>\n",
      "<function <lambda> at 0x106442af0>\n",
      "<function <lambda> at 0x106442af0>\n",
      "<function <lambda> at 0x106442af0>\n",
      "<function <lambda> at 0x106442af0>\n"
     ]
    }
   ],
   "source": [
    "two = lambda: 2\n",
    "sqr = lambda x: x * x\n",
    "pwr = lambda x, y: x ** y\n",
    "\n",
    "print(sqr)\n",
    "\n",
    "for a in range(-2, 3):\n",
    "    #print(sqr(a), end=\" \")\n",
    "    #print(pwr(a, two()))\n",
    "    #print(two)"
   ]
  },
  {
   "cell_type": "markdown",
   "metadata": {},
   "source": [
    "### Lambdas and The map() Function"
   ]
  },
  {
   "cell_type": "code",
   "execution_count": null,
   "metadata": {},
   "outputs": [],
   "source": [
    "# syntax\n",
    "map(function, list)"
   ]
  },
  {
   "cell_type": "code",
   "execution_count": 111,
   "metadata": {},
   "outputs": [
    {
     "name": "stdout",
     "output_type": "stream",
     "text": [
      "[0, 1, 2, 3, 4]\n",
      "[1, 2, 4, 8, 16]\n",
      "0 1 4 9 16 \n"
     ]
    }
   ],
   "source": [
    "list_1 = [x for x in range(5)]\n",
    "list_2 = list(map(lambda x: 2 ** x, list_1))\n",
    "\n",
    "print(list_1)\n",
    "print(list_2)\n",
    "\n",
    "for x in map(lambda x: x * x, list_1):\n",
    "    print(x, end=' ')\n",
    "print()"
   ]
  },
  {
   "cell_type": "markdown",
   "metadata": {},
   "source": [
    "### Lambdas and The filter() Function"
   ]
  },
  {
   "cell_type": "code",
   "execution_count": 119,
   "metadata": {},
   "outputs": [
    {
     "name": "stdout",
     "output_type": "stream",
     "text": [
      "[7, 7, -8, -5, 2]\n",
      "[2]\n"
     ]
    }
   ],
   "source": [
    "from random import seed, randint\n",
    "\n",
    "data = [randint(-10,10) for x in range(5)]\n",
    "filtered = list(filter(lambda x: x > 0 and x % 2 == 0, data))\n",
    "\n",
    "print(data)\n",
    "print(filtered)"
   ]
  },
  {
   "cell_type": "markdown",
   "metadata": {},
   "source": [
    "# Processing Files"
   ]
  },
  {
   "cell_type": "markdown",
   "metadata": {},
   "source": [
    "#### Windows\n",
    "- C:\\directory\\file\n",
    "\n",
    "#### Linux / Unix\n",
    "- /directory/files"
   ]
  },
  {
   "cell_type": "code",
   "execution_count": 126,
   "metadata": {},
   "outputs": [
    {
     "name": "stdout",
     "output_type": "stream",
     "text": [
      "JAKARTA, KOMPAS.com — Sandiaga Salahuddin Uno ingin rehat sejenak dari aktivitas politik termasuk urusan kepartaian setelah Pemilihan Presiden (Pilpres) 2019. \n",
      "Sandiaga ingin fokus dalam upaya mendorong ekonomi kerakyatan melalui program OK OCE dan  Rumah Siap Kerja. \n",
      "Lalu, bagaimana perkembangan program OK OCE saat ini? \n",
      "Ketua Umum OK OCE Indonesia Iim Rusyamsi mengatakan, tercatat 100.000 pelaku usaha mikro kecil dan menengah (UMKM) tergabung dalam program OK OCE di Indonesia.\n",
      "Total sekarang kurang lebih 100.000 (pelaku UMKM yang tergabung dalam program OK OCE) secara nasional. Untuk Pemprov DKI sekarang ini ada 40.000. Sementara pada 2018 tercatat 65.000 yang tergabung,\" kata Iim saat dihubungi Kompas.com, Kamis (4/7/2019). \n",
      "Untuk pelaku UMKM di wilayah DKI Jakarta, Iim menyebut program tersebut didukung oleh pemerintah daerah. Oleh karena itu, Pemprov DKI membantu memfasilitasi pembinaan pengembangan pelaku usaha. \n",
      "Sementara itu, program OK OCE dibantu para penggerak komunitas yang tersebar di seluruh daerah di Indonesia. \n",
      "Penggerak komunitas ada di seluruh indonesia. Jadi, ada perwakilan di daerah-daerah tapi belum semasif di Jakarta. Fokusnya memang di Jakarta, tapi kami lagi dorong teman-teman di daerah untuk mengembangkan UMKM,\" ungkap Iim. \n",
      "Iim mengungkapkan, program OK OCE tetap berjalan dengan baik walaupun Sandiaga tidak menjabat sebagai wakil gubernur DKI Jakarta. \n",
      "Sandiaga tetap berkontribusi membangun Indonesia walaupun tidak memiliki jabatan dalam pemerintahan. \n",
      "\"Bapak Sandi kan pendiri dari gerakan program OK OCE ini. Beliau memang ingin berbakti membangun bangsa walaupun sudah tidak (menjabat) di pemerintahan. Kan masih banyak jalan membangun bangsa ini,\" ujar Iim. \n",
      "\n",
      "Artikel ini telah tayang di Kompas.com dengan judul \"Sandiaga Fokus Kembangkan OK OCE, Bagaimana Kabar Programnya Saat Ini?\", https://megapolitan.kompas.com/read/2019/07/04/11580611/sandiaga-fokus-kembangkan-ok-oce-bagaimana-kabar-programnya-saat-ini. \n",
      "Penulis : Rindi Nuris Velarosdela\n",
      "Editor : Jessi Carina test\n"
     ]
    }
   ],
   "source": [
    "# Akses File\n",
    "stream = open(\"/Users/masaboe/Documents/NGAJAR/2021/DTS FGA/Praktikum/files/file-coba.txt\", \"rt\", encoding = \"utf-8\") # opening tzop.txt in read mode, returning it as a file object\n",
    "print(stream.read()) # printing the content of the file"
   ]
  },
  {
   "cell_type": "code",
   "execution_count": 131,
   "metadata": {},
   "outputs": [
    {
     "name": "stdout",
     "output_type": "stream",
     "text": [
      "Cannot open the file: [Errno 2] No such file or directory: '/Users/masaboe/Documents/NGAJAR/2021/DTS FGA/Praktikum/files/file-coba123.txt'\n"
     ]
    }
   ],
   "source": [
    "try:\n",
    "    stream = open(\"/Users/masaboe/Documents/NGAJAR/2021/DTS FGA/Praktikum/files/file-coba123.txt\", \"rt\")\n",
    "    # Processing goes here.\n",
    "    print(stream.read())\n",
    "    stream.close()\n",
    "except Exception as exc:\n",
    "    print(\"Cannot open the file:\", exc)\n"
   ]
  },
  {
   "cell_type": "code",
   "execution_count": 140,
   "metadata": {},
   "outputs": [
    {
     "name": "stdout",
     "output_type": "stream",
     "text": [
      "JAKARTA, KOMPAS.com — Sandiaga Salahuddin Uno ingin rehat sejenak dari aktivitas politik termasuk urusan kepartaian setelah Pemilihan Presiden (Pilpres) 2019. \n",
      "Sandiaga ingin fokus dalam upaya mendorong ekonomi kerakyatan melalui program OK OCE dan  Rumah Siap Kerja. \n",
      "Lalu, bagaimana perkembangan program OK OCE saat ini? \n",
      "Ketua Umum OK OCE Indonesia Iim Rusyamsi mengatakan, tercatat 100.000 pelaku usaha mikro kecil dan menengah (UMKM) tergabung dalam program OK OCE di Indonesia.\n",
      "Total sekarang kurang lebih 100.000 (pelaku UMKM yang tergabung dalam program OK OCE) secara nasional. Untuk Pemprov DKI sekarang ini ada 40.000. Sementara pada 2018 tercatat 65.000 yang tergabung,\" kata Iim saat dihubungi Kompas.com, Kamis (4/7/2019). \n",
      "Untuk pelaku UMKM di wilayah DKI Jakarta, Iim menyebut program tersebut didukung oleh pemerintah daerah. Oleh karena itu, Pemprov DKI membantu memfasilitasi pembinaan pengembangan pelaku usaha. \n",
      "Sementara itu, program OK OCE dibantu para penggerak komunitas yang tersebar di seluruh daerah di Indonesia. \n",
      "Penggerak komunitas ada di seluruh indonesia. Jadi, ada perwakilan di daerah-daerah tapi belum semasif di Jakarta. Fokusnya memang di Jakarta, tapi kami lagi dorong teman-teman di daerah untuk mengembangkan UMKM,\" ungkap Iim. \n",
      "Iim mengungkapkan, program OK OCE tetap berjalan dengan baik walaupun Sandiaga tidak menjabat sebagai wakil gubernur DKI Jakarta. \n",
      "Sandiaga tetap berkontribusi membangun Indonesia walaupun tidak memiliki jabatan dalam pemerintahan. \n",
      "\"Bapak Sandi kan pendiri dari gerakan program OK OCE ini. Beliau memang ingin berbakti membangun bangsa walaupun sudah tidak (menjabat) di pemerintahan. Kan masih banyak jalan membangun bangsa ini,\" ujar Iim. \n",
      "\n",
      "Artikel ini telah tayang di Kompas.com dengan judul \"Sandiaga Fokus Kembangkan OK OCE, Bagaimana Kabar Programnya Saat Ini?\", https://megapolitan.kompas.com/read/2019/07/04/11580611/sandiaga-fokus-kembangkan-ok-oce-bagaimana-kabar-programnya-saat-ini. \n",
      "Penulis : Rindi Nuris Velarosdela\n",
      "Editor : Jessi Carina test\n"
     ]
    }
   ],
   "source": [
    "import errno\n",
    "\n",
    "try:\n",
    "    s = open(\"/Users/masaboe/Documents/NGAJAR/2021/DTS FGA/Praktikum/files/file-coba.txt\", \"rt\")\n",
    "    # Actual processing goes here.\n",
    "    print(s.read())\n",
    "    s.close()\n",
    "except Exception as exc:\n",
    "    if exc.errno == errno.ENOENT:\n",
    "        print(\"The file doesn't exist.\")\n",
    "    elif exc.errno == errno.EMFILE:\n",
    "        print(\"You've opened too many files.\")\n",
    "    else:\n",
    "        print(\"The error number is:\", exc.errno)"
   ]
  },
  {
   "cell_type": "code",
   "execution_count": 20,
   "metadata": {},
   "outputs": [
    {
     "name": "stdout",
     "output_type": "stream",
     "text": [
      "JAKARTA, KOMPAS.com — Sandiaga Salahuddin Uno ingin rehat sejenak dari aktivitas politik termasuk urusan kepartaian setelah Pemilihan Presiden (Pilpres) 2019. \n",
      "Sandiaga ingin fokus dalam upaya mendorong ekonomi kerakyatan melalui program OK OCE dan  Rumah Siap Kerja. \n",
      "Lalu, bagaimana perkembangan program OK OCE saat ini? \n",
      "Ketua Umum OK OCE Indonesia Iim Rusyamsi mengatakan, tercatat 100.000 pelaku usaha mikro kecil dan menengah (UMKM) tergabung dalam program OK OCE di Indonesia.\n",
      "Total sekarang kurang lebih 100.000 (pelaku UMKM yang tergabung dalam program OK OCE) secara nasional. Untuk Pemprov DKI sekarang ini ada 40.000. Sementara pada 2018 tercatat 65.000 yang tergabung,\" kata Iim saat dihubungi Kompas.com, Kamis (4/7/2019). \n",
      "Untuk pelaku UMKM di wilayah DKI Jakarta, Iim menyebut program tersebut didukung oleh pemerintah daerah. Oleh karena itu, Pemprov DKI membantu memfasilitasi pembinaan pengembangan pelaku usaha. \n",
      "Sementara itu, program OK OCE dibantu para penggerak komunitas yang tersebar di seluruh daerah di Indonesia. \n",
      "Penggerak komunitas ada di seluruh indonesia. Jadi, ada perwakilan di daerah-daerah tapi belum semasif di Jakarta. Fokusnya memang di Jakarta, tapi kami lagi dorong teman-teman di daerah untuk mengembangkan UMKM,\" ungkap Iim. \n",
      "Iim mengungkapkan, program OK OCE tetap berjalan dengan baik walaupun Sandiaga tidak menjabat sebagai wakil gubernur DKI Jakarta. \n",
      "Sandiaga tetap berkontribusi membangun Indonesia walaupun tidak memiliki jabatan dalam pemerintahan. \n",
      "\"Bapak Sandi kan pendiri dari gerakan program OK OCE ini. Beliau memang ingin berbakti membangun bangsa walaupun sudah tidak (menjabat) di pemerintahan. Kan masih banyak jalan membangun bangsa ini,\" ujar Iim. \n",
      "\n",
      "Artikel ini telah tayang di Kompas.com dengan judul \"Sandiaga Fokus Kembangkan OK OCE, Bagaimana Kabar Programnya Saat Ini?\", https://megapolitan.kompas.com/read/2019/07/04/11580611/sandiaga-fokus-kembangkan-ok-oce-bagaimana-kabar-programnya-saat-ini. \n",
      "Penulis : Rindi Nuris Velarosdela\n",
      "Editor : Jessi Carina test\n",
      "\n",
      "Characters in file: 2027\n"
     ]
    }
   ],
   "source": [
    "from os import strerror\n",
    "\n",
    "try:\n",
    "    cnt = 0\n",
    "    s = open('/Users/masaboe/Documents/NGAJAR/2021/DTS FGA/Praktikum/files/file-coba.txt', \"rt\")\n",
    "    ch = s.read(1)\n",
    "    while ch != '':\n",
    "        print(ch, end='')\n",
    "        cnt += 1\n",
    "        ch = s.read(1)\n",
    "    s.close()\n",
    "    print(\"\\n\\nCharacters in file:\", cnt)\n",
    "except IOError as e:\n",
    "    print(\"I/O error occurred: \", strerr(e.errno))"
   ]
  },
  {
   "cell_type": "code",
   "execution_count": 19,
   "metadata": {},
   "outputs": [
    {
     "name": "stdout",
     "output_type": "stream",
     "text": [
      "Standar jam kerja karyawan per minggu adalah 40 jam. Jika karyawan tersebut bekerja lebih dari 40 jam maka dia akan dikenakan biaya lembur per jamnya. Buat program untuk menginputkan gaji pokok karyawan per bulan, dan lama kerja karyawan dalam satu bulan. Outputkan gaji total yang dia terima. Asumsi :\n",
      "\n",
      "1 bulan = 4 minggu\n",
      "Biaya lembur per jam = 2.5% dari Gaji Pokok.\n",
      "\n",
      "Characters in file: 367\n",
      "Lines in file:      4\n"
     ]
    }
   ],
   "source": [
    "from os import strerror\n",
    "\n",
    "try:\n",
    "    ccnt = lcnt = 0\n",
    "    s = open('/Users/masaboe/Documents/NGAJAR/2021/DTS FGA/Praktikum/files/bangun_tidur.txt', 'rt')\n",
    "    line = s.readline()\n",
    "    while line != '':\n",
    "        lcnt += 1\n",
    "        for ch in line:\n",
    "            print(ch, end='')\n",
    "            ccnt += 1\n",
    "        line = s.readline()\n",
    "    s.close()\n",
    "    print(\"\\n\\nCharacters in file:\", ccnt)\n",
    "    print(\"Lines in file:     \", lcnt)\n",
    "except IOError as e:\n",
    "    print(\"I/O error occurred:\", strerr(e.errno))"
   ]
  },
  {
   "cell_type": "code",
   "execution_count": 18,
   "metadata": {},
   "outputs": [
    {
     "name": "stdout",
     "output_type": "stream",
     "text": [
      "Standar jam kerja karyawan per minggu adalah 40 jam. Jika karyawan tersebut bekerja lebih dari 40 jam maka dia akan dikenakan biaya lembur per jamnya. Buat program untuk menginputkan gaji pokok karyawan per bulan, dan lama kerja karyawan dalam satu bulan. Outputkan gaji total yang dia terima. Asumsi :\n",
      "\n",
      "1 bulan = 4 minggu\n",
      "Biaya lembur per jam = 2.5% dari Gaji Pokok.\n",
      "\n",
      "Characters in file: 367\n",
      "Lines in file:      4\n"
     ]
    }
   ],
   "source": [
    "from os import strerror\n",
    "\n",
    "try:\n",
    "    ccnt = lcnt = 0\n",
    "    s = open('/Users/masaboe/Documents/NGAJAR/2021/DTS FGA/Praktikum/files/bangun_tidur.txt', 'rt')\n",
    "    lines = s.readlines(20)\n",
    "    while len(lines) != 0:\n",
    "        for line in lines:\n",
    "            lcnt += 1\n",
    "            for ch in line:\n",
    "                print(ch, end='')\n",
    "                ccnt += 1\n",
    "        lines = s.readlines(10)\n",
    "    s.close()\n",
    "    print(\"\\n\\nCharacters in file:\", ccnt)\n",
    "    print(\"Lines in file:     \", lcnt)\n",
    "except IOError as e:\n",
    "    print(\"I/O error occurred:\", strerr(e.errno))"
   ]
  },
  {
   "cell_type": "markdown",
   "metadata": {},
   "source": [
    "Standar jam kerja karyawan per minggu adalah 40 jam. Jika karyawan tersebut bekerja lebih dari 40 jam maka dia akan dikenakan biaya lembur per jamnya. Buat program untuk menginputkan gaji pokok karyawan per bulan, dan lama kerja karyawan dalam satu bulan. Outputkan gaji total yang dia terima.\n",
    "Asumsi : \n",
    "- 1 bulan = 4 minggu\n",
    "- Biaya lembur per jam = 2.5% dari Gaji Pokok.\n"
   ]
  },
  {
   "cell_type": "markdown",
   "metadata": {},
   "source": [
    "### W TEST"
   ]
  },
  {
   "cell_type": "code",
   "execution_count": 141,
   "metadata": {},
   "outputs": [],
   "source": [
    "import random\n",
    "\n",
    "f = open(\"/Users/masaboe/Documents/NGAJAR/2021/DTS FGA/Praktikum/files/Daftar_Nilai_Random.txt\",\"w\")\n",
    "for i in range(100):\n",
    "    f.write(str(random.randint(0,100))+\" \")\n",
    "    \n",
    "f.close()\n",
    "\n"
   ]
  },
  {
   "cell_type": "code",
   "execution_count": 4,
   "metadata": {},
   "outputs": [
    {
     "name": "stdout",
     "output_type": "stream",
     "text": [
      "JAKARTA, KOMPAS.com — Sandiaga Salahuddin Uno ingin rehat sejenak dari aktivitas politik termasuk urusan kepartaian setelah Pemilihan Presiden (Pilpres) 2019. Sandiaga ingin fokus dalam upaya mendorong ekonomi kerakyatan melalui program OK OCE dan  Rumah Siap Kerja. Lalu, bagaimana perkembangan program OK OCE saat ini? Ketua Umum OK OCE Indonesia Iim Rusyamsi mengatakan, tercatat 100.000 pelaku usaha mikro kecil dan menengah (UMKM) tergabung dalam program OK OCE di Indonesia. Baca juga: Sandiaga: Jadi Wakil Presiden atau Tidak, OK OCE Tetap Berjalan... \"Total sekarang kurang lebih 100.000 (pelaku UMKM yang tergabung dalam program OK OCE) secara nasional. Untuk Pemprov DKI sekarang ini ada 40.000. Sementara pada 2018 tercatat 65.000 yang tergabung,\" kata Iim saat dihubungi Kompas.com, Kamis (4/7/2019). Untuk pelaku UMKM di wilayah DKI Jakarta, Iim menyebut program tersebut didukung oleh pemerintah daerah. Oleh karena itu, Pemprov DKI membantu memfasilitasi pembinaan pengembangan pelaku usaha. Sementara itu, program OK OCE dibantu para penggerak komunitas yang tersebar di seluruh daerah di Indonesia. Baca juga: Meski Kalah, Sandiaga Janji OK OCE Tetap Jalan di Seluruh Indonesia \"Penggerak komunitas ada di seluruh indonesia. Jadi, ada perwakilan di daerah-daerah tapi belum semasif di Jakarta. Fokusnya memang di Jakarta, tapi kami lagi dorong teman-teman di daerah untuk mengembangkan UMKM,\" ungkap Iim. Iim mengungkapkan, program OK OCE tetap berjalan dengan baik walaupun Sandiaga tidak menjabat sebagai wakil gubernur DKI Jakarta. Sandiaga tetap berkontribusi membangun Indonesia walaupun tidak memiliki jabatan dalam pemerintahan. \"Bapak Sandi kan pendiri dari gerakan program OK OCE ini. Beliau memang ingin berbakti membangun bangsa walaupun sudah tidak (menjabat) di pemerintahan. Kan masih banyak jalan membangun bangsa ini,\" ujar Iim. \n",
      "\n",
      "Artikel ini telah tayang di Kompas.com dengan judul \"Sandiaga Fokus Kembangkan OK OCE, Bagaimana Kabar Programnya Saat Ini?\", https://megapolitan.kompas.com/read/2019/07/04/11580611/sandiaga-fokus-kembangkan-ok-oce-bagaimana-kabar-programnya-saat-ini. \n",
      "Penulis : Rindi Nuris Velarosdela\n",
      "Editor : Jessi Carina test\n"
     ]
    }
   ],
   "source": [
    "stream = open(\"/Users/masaboe/Documents/NGAJAR/2021/DTS FGA/Praktikum/files/file-coba.txt\", \"rt\") \n",
    "print(stream.read()) "
   ]
  },
  {
   "cell_type": "code",
   "execution_count": 21,
   "metadata": {},
   "outputs": [
    {
     "name": "stdout",
     "output_type": "stream",
     "text": [
      "JAKARTA, KOMPAS.com — Sandiaga Salahuddin Uno ingin rehat sejenak dari aktivitas politik termasuk urusan kepartaian setelah Pemilihan Presiden (Pilpres) 2019. \n",
      "====================\n",
      "Sandiaga ingin fokus dalam upaya mendorong ekonomi kerakyatan melalui program OK OCE dan  Rumah Siap Kerja. \n",
      "====================\n",
      "Lalu, bagaimana perkembangan program OK OCE saat ini? \n",
      "====================\n",
      "Ketua Umum OK OCE Indonesia Iim Rusyamsi mengatakan, tercatat 100.000 pelaku usaha mikro kecil dan menengah (UMKM) tergabung dalam program OK OCE di Indonesia.\n",
      "====================\n",
      "Total sekarang kurang lebih 100.000 (pelaku UMKM yang tergabung dalam program OK OCE) secara nasional. Untuk Pemprov DKI sekarang ini ada 40.000. Sementara pada 2018 tercatat 65.000 yang tergabung,\" kata Iim saat dihubungi Kompas.com, Kamis (4/7/2019). \n",
      "====================\n",
      "Untuk pelaku UMKM di wilayah DKI Jakarta, Iim menyebut program tersebut didukung oleh pemerintah daerah. Oleh karena itu, Pemprov DKI membantu memfasilitasi pembinaan pengembangan pelaku usaha. \n",
      "====================\n",
      "Sementara itu, program OK OCE dibantu para penggerak komunitas yang tersebar di seluruh daerah di Indonesia. \n",
      "====================\n",
      "Penggerak komunitas ada di seluruh indonesia. Jadi, ada perwakilan di daerah-daerah tapi belum semasif di Jakarta. Fokusnya memang di Jakarta, tapi kami lagi dorong teman-teman di daerah untuk mengembangkan UMKM,\" ungkap Iim. \n",
      "====================\n",
      "Iim mengungkapkan, program OK OCE tetap berjalan dengan baik walaupun Sandiaga tidak menjabat sebagai wakil gubernur DKI Jakarta. \n",
      "====================\n",
      "Sandiaga tetap berkontribusi membangun Indonesia walaupun tidak memiliki jabatan dalam pemerintahan. \n",
      "====================\n",
      "\"Bapak Sandi kan pendiri dari gerakan program OK OCE ini. Beliau memang ingin berbakti membangun bangsa walaupun sudah tidak (menjabat) di pemerintahan. Kan masih banyak jalan membangun bangsa ini,\" ujar Iim. \n",
      "====================\n",
      "\n",
      "====================\n",
      "Artikel ini telah tayang di Kompas.com dengan judul \"Sandiaga Fokus Kembangkan OK OCE, Bagaimana Kabar Programnya Saat Ini?\", https://megapolitan.kompas.com/read/2019/07/04/11580611/sandiaga-fokus-kembangkan-ok-oce-bagaimana-kabar-programnya-saat-ini. \n",
      "====================\n",
      "Penulis : Rindi Nuris Velarosdela\n",
      "====================\n",
      "Editor : Jessi Carina test====================\n",
      "\n",
      "\n",
      "Characters in file: 2027\n",
      "Lines in file:      15\n"
     ]
    }
   ],
   "source": [
    "from os import strerror\n",
    "\n",
    "try:\n",
    "    ccnt = lcnt = 0\n",
    "    s = open('/Users/masaboe/Documents/NGAJAR/2021/DTS FGA/Praktikum/files/file-coba.txt', 'rt')\n",
    "    line = s.readline()\n",
    "    while line != '':\n",
    "        lcnt += 1\n",
    "        for ch in line:\n",
    "            print(ch, end='')\n",
    "            ccnt += 1\n",
    "        line = s.readline()\n",
    "        print(\"=\"*20)\n",
    "    s.close()\n",
    "    print(\"\\n\\nCharacters in file:\", ccnt)\n",
    "    print(\"Lines in file:     \", lcnt)\n",
    "except IOError as e:\n",
    "    print(\"I/O error occurred:\", strerr(e.errno))"
   ]
  },
  {
   "cell_type": "code",
   "execution_count": 6,
   "metadata": {
    "scrolled": true
   },
   "outputs": [
    {
     "name": "stdout",
     "output_type": "stream",
     "text": [
      "JAKARTA, KOMPAS.com — Sandiaga Salahuddin Uno ingin rehat sejenak dari aktivitas politik termasuk urusan kepartaian setelah Pemilihan Presiden (Pilpres) 2019. Sandiaga ingin fokus dalam upaya mendorong ekonomi kerakyatan melalui program OK OCE dan  Rumah Siap Kerja. Lalu, bagaimana perkembangan program OK OCE saat ini? Ketua Umum OK OCE Indonesia Iim Rusyamsi mengatakan, tercatat 100.000 pelaku usaha mikro kecil dan menengah (UMKM) tergabung dalam program OK OCE di Indonesia. Baca juga: Sandiaga: Jadi Wakil Presiden atau Tidak, OK OCE Tetap Berjalan... \"Total sekarang kurang lebih 100.000 (pelaku UMKM yang tergabung dalam program OK OCE) secara nasional. Untuk Pemprov DKI sekarang ini ada 40.000. Sementara pada 2018 tercatat 65.000 yang tergabung,\" kata Iim saat dihubungi Kompas.com, Kamis (4/7/2019). Untuk pelaku UMKM di wilayah DKI Jakarta, Iim menyebut program tersebut didukung oleh pemerintah daerah. Oleh karena itu, Pemprov DKI membantu memfasilitasi pembinaan pengembangan pelaku usaha. Sementara itu, program OK OCE dibantu para penggerak komunitas yang tersebar di seluruh daerah di Indonesia. Baca juga: Meski Kalah, Sandiaga Janji OK OCE Tetap Jalan di Seluruh Indonesia \"Penggerak komunitas ada di seluruh indonesia. Jadi, ada perwakilan di daerah-daerah tapi belum semasif di Jakarta. Fokusnya memang di Jakarta, tapi kami lagi dorong teman-teman di daerah untuk mengembangkan UMKM,\" ungkap Iim. Iim mengungkapkan, program OK OCE tetap berjalan dengan baik walaupun Sandiaga tidak menjabat sebagai wakil gubernur DKI Jakarta. Sandiaga tetap berkontribusi membangun Indonesia walaupun tidak memiliki jabatan dalam pemerintahan. \"Bapak Sandi kan pendiri dari gerakan program OK OCE ini. Beliau memang ingin berbakti membangun bangsa walaupun sudah tidak (menjabat) di pemerintahan. Kan masih banyak jalan membangun bangsa ini,\" ujar Iim. \n",
      "\n",
      "====================\n",
      "\n",
      "\n",
      "====================\n",
      "Artikel ini telah tayang di Kompas.com dengan judul \"Sandiaga Fokus Kembangkan OK OCE, Bagaimana Kabar Programnya Saat Ini?\", https://megapolitan.kompas.com/read/2019/07/04/11580611/sandiaga-fokus-kembangkan-ok-oce-bagaimana-kabar-programnya-saat-ini. \n",
      "\n",
      "====================\n",
      "Penulis : Rindi Nuris Velarosdela\n",
      "\n",
      "====================\n",
      "Editor : Jessi Carina test\n",
      "====================\n"
     ]
    }
   ],
   "source": [
    "for baris in open('/Users/masaboe/Documents/NGAJAR/2021/DTS FGA/Praktikum/files/file-coba.txt','rt'):\n",
    "    print(baris)\n",
    "    print(\"=\"*20)"
   ]
  },
  {
   "cell_type": "markdown",
   "metadata": {},
   "source": [
    "#### Bytearrays"
   ]
  },
  {
   "cell_type": "code",
   "execution_count": 145,
   "metadata": {},
   "outputs": [
    {
     "name": "stdout",
     "output_type": "stream",
     "text": [
      "0xa\n",
      "0x9\n",
      "0x8\n",
      "0x7\n",
      "0x6\n",
      "0x5\n",
      "0x4\n",
      "0x3\n",
      "0x2\n",
      "0x1\n"
     ]
    }
   ],
   "source": [
    "data = bytearray(10)\n",
    "\n",
    "for i in range(len(data)):\n",
    "    data[i] = 10 - i\n",
    "\n",
    "for b in data:\n",
    "    print(hex(b))\n",
    "    #print(b)"
   ]
  },
  {
   "cell_type": "markdown",
   "metadata": {},
   "source": [
    "### OS Module\n",
    "- systemname — stores the name of the operating system;\n",
    "- nodename — stores the machine name on the network;\n",
    "- release — stores the operating system release;\n",
    "- version — stores the operating system version;\n",
    "- machine — stores the hardware identifier, e.g., x86_64."
   ]
  },
  {
   "cell_type": "code",
   "execution_count": 150,
   "metadata": {},
   "outputs": [
    {
     "name": "stdout",
     "output_type": "stream",
     "text": [
      "posix.uname_result(sysname='Darwin', nodename='mbp-masaboe', release='17.7.0', version='Darwin Kernel Version 17.7.0: Mon Aug 31 22:11:23 PDT 2020; root:xnu-4570.71.82.6~1/RELEASE_X86_64', machine='x86_64')\n"
     ]
    }
   ],
   "source": [
    "import os\n",
    "print(os.uname())"
   ]
  },
  {
   "cell_type": "markdown",
   "metadata": {},
   "source": [
    "### Creating directories in Python\n",
    "\n",
    "- my_first_directory — this is a relative path which will create the my_first_directory directory in the current working directory;\n",
    "- ./my_first_directory — this is a relative path that explicitly points to the current working directory. It has the same effect as the path above;\n",
    "- ../my_first_directory — this is a relative path that will create the my_first_directory directory in the parent directory of the current working directory;\n",
    "- /python/my_first_directory — this is the absolute path that will create the my_first_directory directory, which in turn is in the python directory in the root directory."
   ]
  },
  {
   "cell_type": "code",
   "execution_count": 151,
   "metadata": {},
   "outputs": [
    {
     "name": "stdout",
     "output_type": "stream",
     "text": [
      "['sesi-15.ipynb', '.DS_Store', 'sesi-5-6.ipynb', 'images', 'Untitled.ipynb', 'sesi-11-12.ipynb', 'sesi-3-4.ipynb', 'Object Oriented Programming.ipynb', 'sesi-7-8.ipynb', 'files', '.ipynb_checkpoints', 'my_first_directory', '.git', 'sesi-13-14.ipynb', 'sesi-9-10.ipynb']\n"
     ]
    }
   ],
   "source": [
    "import os\n",
    "\n",
    "os.mkdir(\"my_first_directory\")\n",
    "print(os.listdir())"
   ]
  },
  {
   "cell_type": "markdown",
   "metadata": {},
   "source": [
    "### Recursive directory creation"
   ]
  },
  {
   "cell_type": "code",
   "execution_count": null,
   "metadata": {},
   "outputs": [],
   "source": [
    "import os\n",
    "\n",
    "os.makedirs(\"my_first_directory/my_second_directory\")\n",
    "os.chdir(\"my_first_directory\")\n",
    "print(os.listdir())"
   ]
  },
  {
   "cell_type": "code",
   "execution_count": null,
   "metadata": {},
   "outputs": [],
   "source": [
    "# Where am I now?\n",
    "import os\n",
    "\n",
    "os.makedirs(\"my_first_directory/my_second_directory\")\n",
    "os.chdir(\"my_first_directory\")\n",
    "print(os.getcwd())\n",
    "os.chdir(\"my_second_directory\")\n",
    "print(os.getcwd())"
   ]
  },
  {
   "cell_type": "code",
   "execution_count": null,
   "metadata": {},
   "outputs": [],
   "source": [
    "# Deleting Directories\n",
    "import os\n",
    "\n",
    "os.mkdir(\"my_first_directory\")\n",
    "print(os.listdir())\n",
    "os.rmdir(\"my_first_directory\")\n",
    "print(os.listdir())"
   ]
  },
  {
   "cell_type": "markdown",
   "metadata": {},
   "source": [
    "#### >> 4.4.1.8 The os module: LAB"
   ]
  },
  {
   "cell_type": "markdown",
   "metadata": {},
   "source": [
    "### datetime module"
   ]
  },
  {
   "cell_type": "code",
   "execution_count": 153,
   "metadata": {},
   "outputs": [
    {
     "name": "stdout",
     "output_type": "stream",
     "text": [
      "Today: 2021-08-04\n",
      "Year: 2021\n",
      "Month: 8\n",
      "Day: 4\n"
     ]
    }
   ],
   "source": [
    "from datetime import date\n",
    "\n",
    "today = date.today()\n",
    "\n",
    "print(\"Today:\", today)\n",
    "print(\"Year:\", today.year)\n",
    "print(\"Month:\", today.month)\n",
    "print(\"Day:\", today.day)"
   ]
  },
  {
   "cell_type": "code",
   "execution_count": 155,
   "metadata": {},
   "outputs": [
    {
     "name": "stdout",
     "output_type": "stream",
     "text": [
      "Timestamp: 1628066719.644845\n",
      "Date: 2021-08-04\n"
     ]
    }
   ],
   "source": [
    "# Date object from a timestamp\n",
    "\n",
    "from datetime import date\n",
    "import time\n",
    "\n",
    "timestamp = time.time()\n",
    "print(\"Timestamp:\", timestamp)\n",
    "\n",
    "d = date.fromtimestamp(timestamp)\n",
    "print(\"Date:\", d)"
   ]
  },
  {
   "cell_type": "code",
   "execution_count": 157,
   "metadata": {},
   "outputs": [
    {
     "name": "stdout",
     "output_type": "stream",
     "text": [
      "2019-11-04\n"
     ]
    }
   ],
   "source": [
    "# Creating a date object using the ISO format\n",
    "## YYYY-MM-DD format compliant with the ISO 8601 standard.\n",
    "\n",
    "from datetime import date\n",
    "\n",
    "d = date.fromisoformat('2019-11-04')\n",
    "print(d)"
   ]
  },
  {
   "cell_type": "code",
   "execution_count": 158,
   "metadata": {},
   "outputs": [
    {
     "name": "stdout",
     "output_type": "stream",
     "text": [
      "1991-02-05\n",
      "1992-01-16\n"
     ]
    }
   ],
   "source": [
    "# Replace Method\n",
    "\n",
    "from datetime import date\n",
    "\n",
    "d = date(1991, 2, 5)\n",
    "print(d)\n",
    "\n",
    "d = d.replace(year=1992, month=1, day=16)\n",
    "print(d)"
   ]
  },
  {
   "cell_type": "code",
   "execution_count": 161,
   "metadata": {},
   "outputs": [
    {
     "name": "stdout",
     "output_type": "stream",
     "text": [
      "Time: 14:53:20.000001\n",
      "Hour: 14\n",
      "Minute: 53\n",
      "Second: 20\n",
      "Microsecond: 1\n"
     ]
    }
   ],
   "source": [
    "# Creating time object\n",
    "from datetime import time\n",
    "\n",
    "t = time(14, 53, 20, 1)\n",
    "\n",
    "print(\"Time:\", t)\n",
    "print(\"Hour:\", t.hour)\n",
    "print(\"Minute:\", t.minute)\n",
    "print(\"Second:\", t.second)\n",
    "print(\"Microsecond:\", t.microsecond)"
   ]
  },
  {
   "cell_type": "markdown",
   "metadata": {},
   "source": [
    "### Calendar Module"
   ]
  },
  {
   "cell_type": "code",
   "execution_count": 162,
   "metadata": {},
   "outputs": [
    {
     "name": "stdout",
     "output_type": "stream",
     "text": [
      "                                  2020\n",
      "\n",
      "      January                   February                   March\n",
      "Mo Tu We Th Fr Sa Su      Mo Tu We Th Fr Sa Su      Mo Tu We Th Fr Sa Su\n",
      "       1  2  3  4  5                      1  2                         1\n",
      " 6  7  8  9 10 11 12       3  4  5  6  7  8  9       2  3  4  5  6  7  8\n",
      "13 14 15 16 17 18 19      10 11 12 13 14 15 16       9 10 11 12 13 14 15\n",
      "20 21 22 23 24 25 26      17 18 19 20 21 22 23      16 17 18 19 20 21 22\n",
      "27 28 29 30 31            24 25 26 27 28 29         23 24 25 26 27 28 29\n",
      "                                                    30 31\n",
      "\n",
      "       April                      May                       June\n",
      "Mo Tu We Th Fr Sa Su      Mo Tu We Th Fr Sa Su      Mo Tu We Th Fr Sa Su\n",
      "       1  2  3  4  5                   1  2  3       1  2  3  4  5  6  7\n",
      " 6  7  8  9 10 11 12       4  5  6  7  8  9 10       8  9 10 11 12 13 14\n",
      "13 14 15 16 17 18 19      11 12 13 14 15 16 17      15 16 17 18 19 20 21\n",
      "20 21 22 23 24 25 26      18 19 20 21 22 23 24      22 23 24 25 26 27 28\n",
      "27 28 29 30               25 26 27 28 29 30 31      29 30\n",
      "\n",
      "        July                     August                  September\n",
      "Mo Tu We Th Fr Sa Su      Mo Tu We Th Fr Sa Su      Mo Tu We Th Fr Sa Su\n",
      "       1  2  3  4  5                      1  2          1  2  3  4  5  6\n",
      " 6  7  8  9 10 11 12       3  4  5  6  7  8  9       7  8  9 10 11 12 13\n",
      "13 14 15 16 17 18 19      10 11 12 13 14 15 16      14 15 16 17 18 19 20\n",
      "20 21 22 23 24 25 26      17 18 19 20 21 22 23      21 22 23 24 25 26 27\n",
      "27 28 29 30 31            24 25 26 27 28 29 30      28 29 30\n",
      "                          31\n",
      "\n",
      "      October                   November                  December\n",
      "Mo Tu We Th Fr Sa Su      Mo Tu We Th Fr Sa Su      Mo Tu We Th Fr Sa Su\n",
      "          1  2  3  4                         1          1  2  3  4  5  6\n",
      " 5  6  7  8  9 10 11       2  3  4  5  6  7  8       7  8  9 10 11 12 13\n",
      "12 13 14 15 16 17 18       9 10 11 12 13 14 15      14 15 16 17 18 19 20\n",
      "19 20 21 22 23 24 25      16 17 18 19 20 21 22      21 22 23 24 25 26 27\n",
      "26 27 28 29 30 31         23 24 25 26 27 28 29      28 29 30 31\n",
      "                          30\n",
      "\n"
     ]
    }
   ],
   "source": [
    "import calendar\n",
    "print(calendar.calendar(2020))"
   ]
  },
  {
   "cell_type": "code",
   "execution_count": 163,
   "metadata": {},
   "outputs": [
    {
     "name": "stdout",
     "output_type": "stream",
     "text": [
      "   November 2020\n",
      "Mo Tu We Th Fr Sa Su\n",
      "                   1\n",
      " 2  3  4  5  6  7  8\n",
      " 9 10 11 12 13 14 15\n",
      "16 17 18 19 20 21 22\n",
      "23 24 25 26 27 28 29\n",
      "30\n",
      "\n"
     ]
    }
   ],
   "source": [
    "import calendar\n",
    "print(calendar.month(2020, 11))"
   ]
  },
  {
   "cell_type": "code",
   "execution_count": 165,
   "metadata": {},
   "outputs": [
    {
     "name": "stdout",
     "output_type": "stream",
     "text": [
      "   December 2020\n",
      "Su Mo Tu We Th Fr Sa\n",
      "       1  2  3  4  5\n",
      " 6  7  8  9 10 11 12\n",
      "13 14 15 16 17 18 19\n",
      "20 21 22 23 24 25 26\n",
      "27 28 29 30 31\n"
     ]
    }
   ],
   "source": [
    "import calendar\n",
    "\n",
    "calendar.setfirstweekday(calendar.SUNDAY)\n",
    "calendar.prmonth(2020, 12)"
   ]
  },
  {
   "cell_type": "code",
   "execution_count": 167,
   "metadata": {},
   "outputs": [
    {
     "name": "stdout",
     "output_type": "stream",
     "text": [
      "True\n",
      "3\n"
     ]
    }
   ],
   "source": [
    "# Leap year\n",
    "import calendar\n",
    "\n",
    "print(calendar.isleap(2020))\n",
    "print(calendar.leapdays(2010, 2021))  # Up to but not including 2021.\n"
   ]
  },
  {
   "cell_type": "markdown",
   "metadata": {},
   "source": [
    "# Exception Once Again"
   ]
  },
  {
   "cell_type": "code",
   "execution_count": 16,
   "metadata": {},
   "outputs": [
    {
     "name": "stdout",
     "output_type": "stream",
     "text": [
      "Everything went fine\n",
      "It's time to say goodbye\n",
      "0.5\n",
      "==========\n",
      "Division failed\n",
      "It's time to say goodbye\n",
      "None\n"
     ]
    }
   ],
   "source": [
    "def reciprocal(n):\n",
    "    try:\n",
    "        n = 1 / n\n",
    "    except ZeroDivisionError:\n",
    "        print(\"Division failed\")\n",
    "        n = None\n",
    "    else:\n",
    "        print(\"Everything went fine\")\n",
    "    finally:\n",
    "        print(\"It's time to say goodbye\")\n",
    "        return n\n",
    "\n",
    "print(reciprocal(2))\n",
    "print(\"=\"*10)\n",
    "print(reciprocal(0))"
   ]
  },
  {
   "cell_type": "code",
   "execution_count": 15,
   "metadata": {},
   "outputs": [
    {
     "name": "stdout",
     "output_type": "stream",
     "text": [
      "invalid literal for int() with base 10: 'Hello!'\n",
      "invalid literal for int() with base 10: 'Hello!'\n"
     ]
    }
   ],
   "source": [
    "try:\n",
    "    i = int(\"Hello!\")\n",
    "except Exception as e:\n",
    "    print(e)\n",
    "    print(e.__str__())"
   ]
  },
  {
   "cell_type": "markdown",
   "metadata": {},
   "source": [
    "### Else"
   ]
  },
  {
   "cell_type": "code",
   "execution_count": 38,
   "metadata": {},
   "outputs": [
    {
     "name": "stdout",
     "output_type": "stream",
     "text": [
      "Everything went fine\n",
      "0.5\n",
      "Division failed\n",
      "None\n"
     ]
    }
   ],
   "source": [
    "def reciprocal(n):\n",
    "    try:\n",
    "        n = 1 / n\n",
    "    except ZeroDivisionError:\n",
    "        print(\"Division failed\")\n",
    "        return None\n",
    "    else:\n",
    "        print(\"Everything went fine\")\n",
    "        return n\n",
    "\n",
    "print(reciprocal(2))\n",
    "print(reciprocal(0))"
   ]
  },
  {
   "cell_type": "markdown",
   "metadata": {},
   "source": [
    "### Finally"
   ]
  },
  {
   "cell_type": "code",
   "execution_count": 39,
   "metadata": {},
   "outputs": [
    {
     "name": "stdout",
     "output_type": "stream",
     "text": [
      "Everything went fine\n",
      "It's time to say goodbye\n",
      "0.5\n",
      "Division failed\n",
      "It's time to say goodbye\n",
      "None\n"
     ]
    }
   ],
   "source": [
    "def reciprocal(n):\n",
    "    try:\n",
    "        n = 1 / n\n",
    "    except ZeroDivisionError:\n",
    "        print(\"Division failed\")\n",
    "        n = None\n",
    "    else:\n",
    "        print(\"Everything went fine\")\n",
    "    finally:\n",
    "        print(\"It's time to say goodbye\")\n",
    "        return n\n",
    "\n",
    "print(reciprocal(2))\n",
    "print(reciprocal(0))"
   ]
  },
  {
   "cell_type": "markdown",
   "metadata": {},
   "source": [
    "### Any Class Exception"
   ]
  },
  {
   "cell_type": "code",
   "execution_count": 40,
   "metadata": {},
   "outputs": [
    {
     "name": "stdout",
     "output_type": "stream",
     "text": [
      "invalid literal for int() with base 10: 'Hello!'\n",
      "invalid literal for int() with base 10: 'Hello!'\n"
     ]
    }
   ],
   "source": [
    "try:\n",
    "    i = int(\"Hello!\")\n",
    "except Exception as e:\n",
    "    print(e)\n",
    "    print(e.__str__())"
   ]
  },
  {
   "cell_type": "code",
   "execution_count": 12,
   "metadata": {},
   "outputs": [
    {
     "name": "stdout",
     "output_type": "stream",
     "text": [
      "Masukkan Gaji Pokok = 12\n",
      "Masukkan Jam kerja = 12\n",
      "Gaji yang diterima  12\n"
     ]
    }
   ],
   "source": [
    "gaji_pokok = int(input(\"Masukkan Gaji Pokok = \"))\n",
    "jam_kerja = int(input(\"Masukkan Jam kerja = \"))\n",
    "biaya_lembur = 0.025 * gaji_pokok\n",
    "\n",
    "jam_standar = 160\n",
    "\n",
    "if jam_kerja>jam_standar:\n",
    "    tambahan_gaji = biaya_lembur * (jam_kerja - jam_standar)\n",
    "    print(\"Gaji yang diterima \",gaji_pokok+tambahan_gaji)\n",
    "else:\n",
    "    print(\"Gaji yang diterima \",gaji_pokok)\n"
   ]
  },
  {
   "cell_type": "markdown",
   "metadata": {},
   "source": [
    "Buatlah sebuah program yang meminta user untuk menginput nilai, kemudian keluarkan nilainya jika mendapat >80 maka lulus 60 - 80 maka mengulang, selain itu tidak lulus"
   ]
  },
  {
   "cell_type": "code",
   "execution_count": 10,
   "metadata": {},
   "outputs": [
    {
     "name": "stdout",
     "output_type": "stream",
     "text": [
      "Masukkan Nilai = 90\n",
      "Lulus\n"
     ]
    }
   ],
   "source": [
    "nilai = int(input(\"Masukkan Nilai = \"))\n",
    "\n",
    "if nilai>80:\n",
    "    print(\"Lulus\")\n",
    "elif nilai >= 60:\n",
    "    print(\"Mengulang\")\n",
    "else:\n",
    "    print(\"Tidak Lulus\")"
   ]
  },
  {
   "cell_type": "code",
   "execution_count": 17,
   "metadata": {},
   "outputs": [
    {
     "name": "stdout",
     "output_type": "stream",
     "text": [
      "4 10 22 46 94 190 "
     ]
    }
   ],
   "source": [
    "i = 4\n",
    "while i<200:\n",
    "    print(i, end=\" \")\n",
    "    i = i*2 + 2\n",
    "    \n"
   ]
  },
  {
   "cell_type": "code",
   "execution_count": 24,
   "metadata": {},
   "outputs": [
    {
     "name": "stdout",
     "output_type": "stream",
     "text": [
      "Masukkan Angka Hari = 5\n",
      "Jum'at\n"
     ]
    }
   ],
   "source": [
    "hari = ['Minggu','Senin','Selasa','Rabu','Kamis','Jum\\'at','Sabtu']\n",
    "angka = int(input(\"Masukkan Angka Hari = \"))\n",
    "\n",
    "try:\n",
    "    print(hari[angka])\n",
    "except:\n",
    "    print(\"Tidak ada hari tersebut\")"
   ]
  },
  {
   "cell_type": "code",
   "execution_count": 36,
   "metadata": {},
   "outputs": [
    {
     "name": "stdout",
     "output_type": "stream",
     "text": [
      "Masukkan Kata = digital\n",
      "Kata dibalik =  ['l', 'a', 't', 'i', 'g', 'i', 'd']\n"
     ]
    }
   ],
   "source": [
    "kata = input(\"Masukkan Kata = \")\n",
    "kata = ''.join([k for k in reversed(kata)])\n",
    "print(\"Kata dibalik = \",kata)"
   ]
  },
  {
   "cell_type": "code",
   "execution_count": null,
   "metadata": {},
   "outputs": [],
   "source": []
  }
 ],
 "metadata": {
  "kernelspec": {
   "display_name": "Python 3",
   "language": "python",
   "name": "python3"
  },
  "language_info": {
   "codemirror_mode": {
    "name": "ipython",
    "version": 3
   },
   "file_extension": ".py",
   "mimetype": "text/x-python",
   "name": "python",
   "nbconvert_exporter": "python",
   "pygments_lexer": "ipython3",
   "version": "3.8.5"
  }
 },
 "nbformat": 4,
 "nbformat_minor": 2
}
